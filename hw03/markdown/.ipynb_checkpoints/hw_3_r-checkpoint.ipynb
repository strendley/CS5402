{
 "cells": [
  {
   "cell_type": "markdown",
   "metadata": {},
   "source": [
    " # <div align=\"center\"> 1R Animal Classifier</div>\n",
    "\n",
    "### Author & Notes\n",
    "Skylar Trendley\n",
    "\n",
    "Data Mining\n",
    "\n",
    "Homework 3\n",
    "\n",
    "### Concept Description: </br>\n",
    "Train a system to classify animals as either mammal or non-mammal.\n",
    "\n",
    "### Data Collection: </br>\n",
    "The data has been provided by Perry B. Koob. It consists of 18 attributes: a descriptor attribute(name), 15 boolean attributes, and two numerical attributes.\n",
    "\n",
    "### Example Description: </br>\n",
    "Attribute Information:\n",
    "1. animal name: Nominal attribute that indicates the animal. Unique for each instance.  \n",
    "2. hair: Nominal boolean attribute that describes if the animal has hair.\n",
    "3. feathers: Nominal boolean attribute that describes if the animal has feathers. \n",
    "4. eggs: Nominal boolean attribute that describes if the animal lays eggs.   \n",
    "5. milk: Nominal boolean attribute that describes if the animal produces milk.   \n",
    "6. airborne: Nominal boolean attribute that describes if the animal has the capability of flight.   \n",
    "7. aquatic: Nominal boolean attribute that describes if the animal has the capability to breathe under water.   \n",
    "8. predator: Nominal boolean attribute that describes if the animal is a predator.   \n",
    "9. toothed: Nominal boolean attribute that describes if the animal has teeth.  \n",
    "10. backbone: Nominal boolean attribute that describes if the animal has a backbone.  \n",
    "11. breathes: Nominal boolean attribute that describes if the animal breathes air.  \n",
    "12. venomous: Nominal boolean attribute that describes if the animal produces venom.  \n",
    "13. fins: Nominal boolean attribute that describes if the animal has fins.  \n",
    "14. legs: Numeric classification that describes the number of legs an animal has (set of values: {0,2,4,5,6,8})  \n",
    "15. tail: Nominal boolean attribute that describes if the animal has a tail.  \n",
    "16. domestic: Nominal boolean attribute that describes if the animal has been domesticated.  \n",
    "17. catsize: Nominal boolean attribute that describes if the animal is catsized.  \n",
    "18. gestation: Numeric classification that describes if the animal has live birth (in days)\n",
    "\n",
    "### Data Import and Wrangling:\n"
   ]
  },
  {
   "cell_type": "code",
   "execution_count": 1,
   "metadata": {},
   "outputs": [
    {
     "name": "stderr",
     "output_type": "stream",
     "text": [
      "\n",
      "Attaching package: ‘dplyr’\n",
      "\n",
      "\n",
      "The following objects are masked from ‘package:stats’:\n",
      "\n",
      "    filter, lag\n",
      "\n",
      "\n",
      "The following objects are masked from ‘package:base’:\n",
      "\n",
      "    intersect, setdiff, setequal, union\n",
      "\n",
      "\n",
      "Loading required package: lattice\n",
      "\n",
      "Loading required package: ggplot2\n",
      "\n"
     ]
    }
   ],
   "source": [
    "library(dplyr) #library necessary for %>%rename()\n",
    "library(OneR) #library necessary for model\n",
    "library(caret) #library necessary for confusionMatrix"
   ]
  },
  {
   "cell_type": "code",
   "execution_count": 2,
   "metadata": {},
   "outputs": [
    {
     "data": {
      "text/html": [
       "<style>\n",
       ".list-inline {list-style: none; margin:0; padding: 0}\n",
       ".list-inline>li {display: inline-block}\n",
       ".list-inline>li:not(:last-child)::after {content: \"\\00b7\"; padding: 0 .5ex}\n",
       "</style>\n",
       "<ol class=list-inline><li>'animal.name'</li><li>'hair'</li><li>'feathers'</li><li>'eggs'</li><li>'milk'</li><li>'airborne'</li><li>'aquatic'</li><li>'predator'</li><li>'toothed'</li><li>'backbone'</li><li>'breathes'</li><li>'venomous'</li><li>'fins'</li><li>'legs'</li><li>'tail'</li><li>'domestic'</li><li>'catsize'</li><li>'gestation'</li><li>'type'</li></ol>\n"
      ],
      "text/latex": [
       "\\begin{enumerate*}\n",
       "\\item 'animal.name'\n",
       "\\item 'hair'\n",
       "\\item 'feathers'\n",
       "\\item 'eggs'\n",
       "\\item 'milk'\n",
       "\\item 'airborne'\n",
       "\\item 'aquatic'\n",
       "\\item 'predator'\n",
       "\\item 'toothed'\n",
       "\\item 'backbone'\n",
       "\\item 'breathes'\n",
       "\\item 'venomous'\n",
       "\\item 'fins'\n",
       "\\item 'legs'\n",
       "\\item 'tail'\n",
       "\\item 'domestic'\n",
       "\\item 'catsize'\n",
       "\\item 'gestation'\n",
       "\\item 'type'\n",
       "\\end{enumerate*}\n"
      ],
      "text/markdown": [
       "1. 'animal.name'\n",
       "2. 'hair'\n",
       "3. 'feathers'\n",
       "4. 'eggs'\n",
       "5. 'milk'\n",
       "6. 'airborne'\n",
       "7. 'aquatic'\n",
       "8. 'predator'\n",
       "9. 'toothed'\n",
       "10. 'backbone'\n",
       "11. 'breathes'\n",
       "12. 'venomous'\n",
       "13. 'fins'\n",
       "14. 'legs'\n",
       "15. 'tail'\n",
       "16. 'domestic'\n",
       "17. 'catsize'\n",
       "18. 'gestation'\n",
       "19. 'type'\n",
       "\n",
       "\n"
      ],
      "text/plain": [
       " [1] \"animal.name\" \"hair\"        \"feathers\"    \"eggs\"        \"milk\"       \n",
       " [6] \"airborne\"    \"aquatic\"     \"predator\"    \"toothed\"     \"backbone\"   \n",
       "[11] \"breathes\"    \"venomous\"    \"fins\"        \"legs\"        \"tail\"       \n",
       "[16] \"domestic\"    \"catsize\"     \"gestation\"   \"type\"       "
      ]
     },
     "metadata": {},
     "output_type": "display_data"
    }
   ],
   "source": [
    "train <-read.csv(file ='../src-data/animal-taxonomy-train.csv',stringsAsFactors=TRUE)\n",
    "test <-read.csv(file ='../src-data/animal-taxonomy-test.csv',stringsAsFactors=TRUE)\n",
    "\n",
    "colnames(test)\n",
    "\n",
    "#Unused attributes\n",
    "train$legs <- NULL\n",
    "train$gestation <- NULL"
   ]
  },
  {
   "cell_type": "code",
   "execution_count": 3,
   "metadata": {},
   "outputs": [
    {
     "data": {
      "text/html": [
       "<table>\n",
       "<caption>A data.frame: 10 × 19</caption>\n",
       "<thead>\n",
       "\t<tr><th scope=col>animal.name</th><th scope=col>hair</th><th scope=col>feathers</th><th scope=col>eggs</th><th scope=col>milk</th><th scope=col>airborne</th><th scope=col>aquatic</th><th scope=col>predator</th><th scope=col>toothed</th><th scope=col>backbone</th><th scope=col>breathes</th><th scope=col>venomous</th><th scope=col>fins</th><th scope=col>legs</th><th scope=col>tail</th><th scope=col>domestic</th><th scope=col>catsize</th><th scope=col>gestation</th><th scope=col>type</th></tr>\n",
       "\t<tr><th scope=col>&lt;fct&gt;</th><th scope=col>&lt;lgl&gt;</th><th scope=col>&lt;lgl&gt;</th><th scope=col>&lt;lgl&gt;</th><th scope=col>&lt;lgl&gt;</th><th scope=col>&lt;lgl&gt;</th><th scope=col>&lt;lgl&gt;</th><th scope=col>&lt;lgl&gt;</th><th scope=col>&lt;lgl&gt;</th><th scope=col>&lt;lgl&gt;</th><th scope=col>&lt;lgl&gt;</th><th scope=col>&lt;lgl&gt;</th><th scope=col>&lt;lgl&gt;</th><th scope=col>&lt;int&gt;</th><th scope=col>&lt;lgl&gt;</th><th scope=col>&lt;lgl&gt;</th><th scope=col>&lt;lgl&gt;</th><th scope=col>&lt;int&gt;</th><th scope=col>&lt;fct&gt;</th></tr>\n",
       "</thead>\n",
       "<tbody>\n",
       "\t<tr><td>dolphin </td><td>FALSE</td><td>FALSE</td><td>FALSE</td><td> TRUE</td><td>FALSE</td><td> TRUE</td><td> TRUE</td><td> TRUE</td><td>TRUE</td><td> TRUE</td><td>FALSE</td><td> TRUE</td><td>0</td><td> TRUE</td><td>FALSE</td><td> TRUE</td><td>360</td><td>Mammal   </td></tr>\n",
       "\t<tr><td>chicken </td><td>FALSE</td><td> TRUE</td><td> TRUE</td><td>FALSE</td><td> TRUE</td><td>FALSE</td><td>FALSE</td><td>FALSE</td><td>TRUE</td><td> TRUE</td><td>FALSE</td><td>FALSE</td><td>2</td><td> TRUE</td><td> TRUE</td><td>FALSE</td><td> 21</td><td>NotMammal</td></tr>\n",
       "\t<tr><td>aardvark</td><td> TRUE</td><td>FALSE</td><td>FALSE</td><td> TRUE</td><td>FALSE</td><td>FALSE</td><td> TRUE</td><td> TRUE</td><td>TRUE</td><td> TRUE</td><td>FALSE</td><td>FALSE</td><td>4</td><td>FALSE</td><td>FALSE</td><td> TRUE</td><td>213</td><td>Mammal   </td></tr>\n",
       "\t<tr><td>platypus</td><td> TRUE</td><td>FALSE</td><td> TRUE</td><td> TRUE</td><td>FALSE</td><td> TRUE</td><td> TRUE</td><td>FALSE</td><td>TRUE</td><td> TRUE</td><td>FALSE</td><td>FALSE</td><td>4</td><td> TRUE</td><td>FALSE</td><td> TRUE</td><td> 14</td><td>Mammal   </td></tr>\n",
       "\t<tr><td>flamingo</td><td>FALSE</td><td> TRUE</td><td> TRUE</td><td>FALSE</td><td> TRUE</td><td>FALSE</td><td>FALSE</td><td>FALSE</td><td>TRUE</td><td> TRUE</td><td>FALSE</td><td>FALSE</td><td>2</td><td> TRUE</td><td>FALSE</td><td> TRUE</td><td> 31</td><td>NotMammal</td></tr>\n",
       "\t<tr><td>dove    </td><td>FALSE</td><td> TRUE</td><td> TRUE</td><td>FALSE</td><td> TRUE</td><td>FALSE</td><td>FALSE</td><td>FALSE</td><td>TRUE</td><td> TRUE</td><td>FALSE</td><td>FALSE</td><td>2</td><td> TRUE</td><td> TRUE</td><td>FALSE</td><td> 16</td><td>NotMammal</td></tr>\n",
       "\t<tr><td>oryx    </td><td> TRUE</td><td>FALSE</td><td>FALSE</td><td> TRUE</td><td>FALSE</td><td>FALSE</td><td>FALSE</td><td> TRUE</td><td>TRUE</td><td> TRUE</td><td>FALSE</td><td>FALSE</td><td>4</td><td> TRUE</td><td>FALSE</td><td> TRUE</td><td>240</td><td>Mammal   </td></tr>\n",
       "\t<tr><td>lion    </td><td> TRUE</td><td>FALSE</td><td>FALSE</td><td> TRUE</td><td>FALSE</td><td>FALSE</td><td> TRUE</td><td> TRUE</td><td>TRUE</td><td> TRUE</td><td>FALSE</td><td>FALSE</td><td>4</td><td> TRUE</td><td>FALSE</td><td> TRUE</td><td>108</td><td>Mammal   </td></tr>\n",
       "\t<tr><td>polecat </td><td> TRUE</td><td>FALSE</td><td>FALSE</td><td> TRUE</td><td>FALSE</td><td>FALSE</td><td> TRUE</td><td> TRUE</td><td>TRUE</td><td> TRUE</td><td>FALSE</td><td>FALSE</td><td>4</td><td> TRUE</td><td>FALSE</td><td> TRUE</td><td> 66</td><td>Mammal   </td></tr>\n",
       "\t<tr><td>dogfish </td><td>FALSE</td><td>FALSE</td><td> TRUE</td><td>FALSE</td><td>FALSE</td><td> TRUE</td><td> TRUE</td><td> TRUE</td><td>TRUE</td><td>FALSE</td><td>FALSE</td><td> TRUE</td><td>0</td><td> TRUE</td><td>FALSE</td><td> TRUE</td><td>720</td><td>NotMammal</td></tr>\n",
       "</tbody>\n",
       "</table>\n"
      ],
      "text/latex": [
       "A data.frame: 10 × 19\n",
       "\\begin{tabular}{lllllllllllllllllll}\n",
       " animal.name & hair & feathers & eggs & milk & airborne & aquatic & predator & toothed & backbone & breathes & venomous & fins & legs & tail & domestic & catsize & gestation & type\\\\\n",
       " <fct> & <lgl> & <lgl> & <lgl> & <lgl> & <lgl> & <lgl> & <lgl> & <lgl> & <lgl> & <lgl> & <lgl> & <lgl> & <int> & <lgl> & <lgl> & <lgl> & <int> & <fct>\\\\\n",
       "\\hline\n",
       "\t dolphin  & FALSE & FALSE & FALSE &  TRUE & FALSE &  TRUE &  TRUE &  TRUE & TRUE &  TRUE & FALSE &  TRUE & 0 &  TRUE & FALSE &  TRUE & 360 & Mammal   \\\\\n",
       "\t chicken  & FALSE &  TRUE &  TRUE & FALSE &  TRUE & FALSE & FALSE & FALSE & TRUE &  TRUE & FALSE & FALSE & 2 &  TRUE &  TRUE & FALSE &  21 & NotMammal\\\\\n",
       "\t aardvark &  TRUE & FALSE & FALSE &  TRUE & FALSE & FALSE &  TRUE &  TRUE & TRUE &  TRUE & FALSE & FALSE & 4 & FALSE & FALSE &  TRUE & 213 & Mammal   \\\\\n",
       "\t platypus &  TRUE & FALSE &  TRUE &  TRUE & FALSE &  TRUE &  TRUE & FALSE & TRUE &  TRUE & FALSE & FALSE & 4 &  TRUE & FALSE &  TRUE &  14 & Mammal   \\\\\n",
       "\t flamingo & FALSE &  TRUE &  TRUE & FALSE &  TRUE & FALSE & FALSE & FALSE & TRUE &  TRUE & FALSE & FALSE & 2 &  TRUE & FALSE &  TRUE &  31 & NotMammal\\\\\n",
       "\t dove     & FALSE &  TRUE &  TRUE & FALSE &  TRUE & FALSE & FALSE & FALSE & TRUE &  TRUE & FALSE & FALSE & 2 &  TRUE &  TRUE & FALSE &  16 & NotMammal\\\\\n",
       "\t oryx     &  TRUE & FALSE & FALSE &  TRUE & FALSE & FALSE & FALSE &  TRUE & TRUE &  TRUE & FALSE & FALSE & 4 &  TRUE & FALSE &  TRUE & 240 & Mammal   \\\\\n",
       "\t lion     &  TRUE & FALSE & FALSE &  TRUE & FALSE & FALSE &  TRUE &  TRUE & TRUE &  TRUE & FALSE & FALSE & 4 &  TRUE & FALSE &  TRUE & 108 & Mammal   \\\\\n",
       "\t polecat  &  TRUE & FALSE & FALSE &  TRUE & FALSE & FALSE &  TRUE &  TRUE & TRUE &  TRUE & FALSE & FALSE & 4 &  TRUE & FALSE &  TRUE &  66 & Mammal   \\\\\n",
       "\t dogfish  & FALSE & FALSE &  TRUE & FALSE & FALSE &  TRUE &  TRUE &  TRUE & TRUE & FALSE & FALSE &  TRUE & 0 &  TRUE & FALSE &  TRUE & 720 & NotMammal\\\\\n",
       "\\end{tabular}\n"
      ],
      "text/markdown": [
       "\n",
       "A data.frame: 10 × 19\n",
       "\n",
       "| animal.name &lt;fct&gt; | hair &lt;lgl&gt; | feathers &lt;lgl&gt; | eggs &lt;lgl&gt; | milk &lt;lgl&gt; | airborne &lt;lgl&gt; | aquatic &lt;lgl&gt; | predator &lt;lgl&gt; | toothed &lt;lgl&gt; | backbone &lt;lgl&gt; | breathes &lt;lgl&gt; | venomous &lt;lgl&gt; | fins &lt;lgl&gt; | legs &lt;int&gt; | tail &lt;lgl&gt; | domestic &lt;lgl&gt; | catsize &lt;lgl&gt; | gestation &lt;int&gt; | type &lt;fct&gt; |\n",
       "|---|---|---|---|---|---|---|---|---|---|---|---|---|---|---|---|---|---|---|\n",
       "| dolphin  | FALSE | FALSE | FALSE |  TRUE | FALSE |  TRUE |  TRUE |  TRUE | TRUE |  TRUE | FALSE |  TRUE | 0 |  TRUE | FALSE |  TRUE | 360 | Mammal    |\n",
       "| chicken  | FALSE |  TRUE |  TRUE | FALSE |  TRUE | FALSE | FALSE | FALSE | TRUE |  TRUE | FALSE | FALSE | 2 |  TRUE |  TRUE | FALSE |  21 | NotMammal |\n",
       "| aardvark |  TRUE | FALSE | FALSE |  TRUE | FALSE | FALSE |  TRUE |  TRUE | TRUE |  TRUE | FALSE | FALSE | 4 | FALSE | FALSE |  TRUE | 213 | Mammal    |\n",
       "| platypus |  TRUE | FALSE |  TRUE |  TRUE | FALSE |  TRUE |  TRUE | FALSE | TRUE |  TRUE | FALSE | FALSE | 4 |  TRUE | FALSE |  TRUE |  14 | Mammal    |\n",
       "| flamingo | FALSE |  TRUE |  TRUE | FALSE |  TRUE | FALSE | FALSE | FALSE | TRUE |  TRUE | FALSE | FALSE | 2 |  TRUE | FALSE |  TRUE |  31 | NotMammal |\n",
       "| dove     | FALSE |  TRUE |  TRUE | FALSE |  TRUE | FALSE | FALSE | FALSE | TRUE |  TRUE | FALSE | FALSE | 2 |  TRUE |  TRUE | FALSE |  16 | NotMammal |\n",
       "| oryx     |  TRUE | FALSE | FALSE |  TRUE | FALSE | FALSE | FALSE |  TRUE | TRUE |  TRUE | FALSE | FALSE | 4 |  TRUE | FALSE |  TRUE | 240 | Mammal    |\n",
       "| lion     |  TRUE | FALSE | FALSE |  TRUE | FALSE | FALSE |  TRUE |  TRUE | TRUE |  TRUE | FALSE | FALSE | 4 |  TRUE | FALSE |  TRUE | 108 | Mammal    |\n",
       "| polecat  |  TRUE | FALSE | FALSE |  TRUE | FALSE | FALSE |  TRUE |  TRUE | TRUE |  TRUE | FALSE | FALSE | 4 |  TRUE | FALSE |  TRUE |  66 | Mammal    |\n",
       "| dogfish  | FALSE | FALSE |  TRUE | FALSE | FALSE |  TRUE |  TRUE |  TRUE | TRUE | FALSE | FALSE |  TRUE | 0 |  TRUE | FALSE |  TRUE | 720 | NotMammal |\n",
       "\n"
      ],
      "text/plain": [
       "   animal.name hair  feathers eggs  milk  airborne aquatic predator toothed\n",
       "1  dolphin     FALSE FALSE    FALSE  TRUE FALSE     TRUE    TRUE     TRUE  \n",
       "2  chicken     FALSE  TRUE     TRUE FALSE  TRUE    FALSE   FALSE    FALSE  \n",
       "3  aardvark     TRUE FALSE    FALSE  TRUE FALSE    FALSE    TRUE     TRUE  \n",
       "4  platypus     TRUE FALSE     TRUE  TRUE FALSE     TRUE    TRUE    FALSE  \n",
       "5  flamingo    FALSE  TRUE     TRUE FALSE  TRUE    FALSE   FALSE    FALSE  \n",
       "6  dove        FALSE  TRUE     TRUE FALSE  TRUE    FALSE   FALSE    FALSE  \n",
       "7  oryx         TRUE FALSE    FALSE  TRUE FALSE    FALSE   FALSE     TRUE  \n",
       "8  lion         TRUE FALSE    FALSE  TRUE FALSE    FALSE    TRUE     TRUE  \n",
       "9  polecat      TRUE FALSE    FALSE  TRUE FALSE    FALSE    TRUE     TRUE  \n",
       "10 dogfish     FALSE FALSE     TRUE FALSE FALSE     TRUE    TRUE     TRUE  \n",
       "   backbone breathes venomous fins  legs tail  domestic catsize gestation\n",
       "1  TRUE      TRUE    FALSE     TRUE 0     TRUE FALSE     TRUE   360      \n",
       "2  TRUE      TRUE    FALSE    FALSE 2     TRUE  TRUE    FALSE    21      \n",
       "3  TRUE      TRUE    FALSE    FALSE 4    FALSE FALSE     TRUE   213      \n",
       "4  TRUE      TRUE    FALSE    FALSE 4     TRUE FALSE     TRUE    14      \n",
       "5  TRUE      TRUE    FALSE    FALSE 2     TRUE FALSE     TRUE    31      \n",
       "6  TRUE      TRUE    FALSE    FALSE 2     TRUE  TRUE    FALSE    16      \n",
       "7  TRUE      TRUE    FALSE    FALSE 4     TRUE FALSE     TRUE   240      \n",
       "8  TRUE      TRUE    FALSE    FALSE 4     TRUE FALSE     TRUE   108      \n",
       "9  TRUE      TRUE    FALSE    FALSE 4     TRUE FALSE     TRUE    66      \n",
       "10 TRUE     FALSE    FALSE     TRUE 0     TRUE FALSE     TRUE   720      \n",
       "   type     \n",
       "1  Mammal   \n",
       "2  NotMammal\n",
       "3  Mammal   \n",
       "4  Mammal   \n",
       "5  NotMammal\n",
       "6  NotMammal\n",
       "7  Mammal   \n",
       "8  Mammal   \n",
       "9  Mammal   \n",
       "10 NotMammal"
      ]
     },
     "metadata": {},
     "output_type": "display_data"
    }
   ],
   "source": [
    "train$type <- ifelse(train$type == 'mammal', \"Mammal\", \"NotMammal\")\n",
    "train$type <- as.factor(train$type)\n",
    "\n",
    "test$type <- ifelse(test$type == \"mammal\", \"Mammal\", \"NotMammal\")\n",
    "test$type <- as.factor(test$type)\n",
    "\n",
    "test"
   ]
  },
  {
   "cell_type": "markdown",
   "metadata": {},
   "source": [
    "### Exploratory Data Analysis: </br>\n",
    "\n",
    "The Naive Bayes classifer uses nominal attributes, so each attribute was examined and determined to be nominal or discretized to be nominal.\n",
    "\n",
    "### Mining or Analytics: </br>"
   ]
  },
  {
   "cell_type": "code",
   "execution_count": 4,
   "metadata": {},
   "outputs": [],
   "source": [
    "prediction <- train"
   ]
  },
  {
   "cell_type": "code",
   "execution_count": 5,
   "metadata": {},
   "outputs": [
    {
     "data": {
      "text/html": [
       "<table>\n",
       "<caption>A data.frame: 2 × 4</caption>\n",
       "<thead>\n",
       "\t<tr><th scope=col>Label</th><th scope=col>Freq</th><th scope=col>Mammal</th><th scope=col>NotMammal</th></tr>\n",
       "\t<tr><th scope=col>&lt;fct&gt;</th><th scope=col>&lt;int&gt;</th><th scope=col>&lt;int&gt;</th><th scope=col>&lt;int&gt;</th></tr>\n",
       "</thead>\n",
       "<tbody>\n",
       "\t<tr><td>FALSE</td><td>53</td><td> 1</td><td>52</td></tr>\n",
       "\t<tr><td>TRUE </td><td>38</td><td>34</td><td> 4</td></tr>\n",
       "</tbody>\n",
       "</table>\n"
      ],
      "text/latex": [
       "A data.frame: 2 × 4\n",
       "\\begin{tabular}{llll}\n",
       " Label & Freq & Mammal & NotMammal\\\\\n",
       " <fct> & <int> & <int> & <int>\\\\\n",
       "\\hline\n",
       "\t FALSE & 53 &  1 & 52\\\\\n",
       "\t TRUE  & 38 & 34 &  4\\\\\n",
       "\\end{tabular}\n"
      ],
      "text/markdown": [
       "\n",
       "A data.frame: 2 × 4\n",
       "\n",
       "| Label &lt;fct&gt; | Freq &lt;int&gt; | Mammal &lt;int&gt; | NotMammal &lt;int&gt; |\n",
       "|---|---|---|---|\n",
       "| FALSE | 53 |  1 | 52 |\n",
       "| TRUE  | 38 | 34 |  4 |\n",
       "\n"
      ],
      "text/plain": [
       "  Label Freq Mammal NotMammal\n",
       "1 FALSE 53    1     52       \n",
       "2 TRUE  38   34      4       "
      ]
     },
     "metadata": {},
     "output_type": "display_data"
    }
   ],
   "source": [
    "#Hair\n",
    "\n",
    "hair.count<-as.data.frame(table(train$hair))\n",
    "hair.true <-as.data.frame(table(train[train$type == \"Mammal\",]$hair))\n",
    "hair.false <-as.data.frame(table(train[train$type == \"NotMammal\",]$hair))\n",
    "\n",
    "hair.count <-hair.count %>%rename(Label=Var1)\n",
    "hair.true <-hair.true %>%rename(Label=Var1,Mammal=Freq)\n",
    "hair.false <-hair.false  %>%rename(Label=Var1,NotMammal=Freq)\n",
    "hair <-merge(hair.count,hair.true, bye=Label,all=TRUE)\n",
    "hair <-merge(hair,hair.false, bye=Label,all=TRUE)\n",
    "hair"
   ]
  },
  {
   "cell_type": "code",
   "execution_count": 6,
   "metadata": {},
   "outputs": [],
   "source": [
    "prediction$pred.hair <-NA\n",
    "prediction$pred.hair[prediction$hair==\"TRUE\"] <- \"Mammal\"\n",
    "prediction$pred.hair[prediction$hair==\"FALSE\"] <- \"NotMammal\"\n",
    "prediction$hair <-NULL\n",
    "prediction$pred.hair <-as.factor(prediction$pred.hair)"
   ]
  },
  {
   "cell_type": "code",
   "execution_count": 7,
   "metadata": {},
   "outputs": [
    {
     "data": {
      "text/html": [
       "<table>\n",
       "<caption>A data.frame: 2 × 4</caption>\n",
       "<thead>\n",
       "\t<tr><th scope=col>Label</th><th scope=col>Freq</th><th scope=col>Mammal</th><th scope=col>NotMammal</th></tr>\n",
       "\t<tr><th scope=col>&lt;fct&gt;</th><th scope=col>&lt;int&gt;</th><th scope=col>&lt;int&gt;</th><th scope=col>&lt;int&gt;</th></tr>\n",
       "</thead>\n",
       "<tbody>\n",
       "\t<tr><td>FALSE</td><td>74</td><td>39</td><td>35</td></tr>\n",
       "\t<tr><td>TRUE </td><td>17</td><td>17</td><td>NA</td></tr>\n",
       "</tbody>\n",
       "</table>\n"
      ],
      "text/latex": [
       "A data.frame: 2 × 4\n",
       "\\begin{tabular}{llll}\n",
       " Label & Freq & Mammal & NotMammal\\\\\n",
       " <fct> & <int> & <int> & <int>\\\\\n",
       "\\hline\n",
       "\t FALSE & 74 & 39 & 35\\\\\n",
       "\t TRUE  & 17 & 17 & NA\\\\\n",
       "\\end{tabular}\n"
      ],
      "text/markdown": [
       "\n",
       "A data.frame: 2 × 4\n",
       "\n",
       "| Label &lt;fct&gt; | Freq &lt;int&gt; | Mammal &lt;int&gt; | NotMammal &lt;int&gt; |\n",
       "|---|---|---|---|\n",
       "| FALSE | 74 | 39 | 35 |\n",
       "| TRUE  | 17 | 17 | NA |\n",
       "\n"
      ],
      "text/plain": [
       "  Label Freq Mammal NotMammal\n",
       "1 FALSE 74   39     35       \n",
       "2 TRUE  17   17     NA       "
      ]
     },
     "metadata": {},
     "output_type": "display_data"
    }
   ],
   "source": [
    "#Feathers\n",
    "\n",
    "feathers.count<-as.data.frame(table(train$feathers))\n",
    "feathers.true <-as.data.frame(table(train[train$type == \"NotMammal\",]$feathers))\n",
    "feathers.false <-as.data.frame(table(train[train$type == \"Mammal\",]$feathers))\n",
    "\n",
    "\n",
    "feathers.count <-feathers.count %>%rename(Label=Var1)\n",
    "feathers.true <-feathers.true %>%rename(Label=Var1,Mammal=Freq)\n",
    "feathers.false <-feathers.false  %>%rename(Label=Var1,NotMammal=Freq)\n",
    "feathers <-merge(feathers.count,feathers.true, bye=Label,all=TRUE)\n",
    "feathers <-merge(feathers,feathers.false, bye=Label,all=TRUE)\n",
    "feathers"
   ]
  },
  {
   "cell_type": "code",
   "execution_count": 8,
   "metadata": {},
   "outputs": [],
   "source": [
    "prediction$pred.feathers <-NA\n",
    "prediction$pred.feathers[prediction$feathers==\"TRUE\"] <- \"NotMammal\"\n",
    "prediction$pred.feathers[prediction$feathers==\"FALSE\"] <- \"Mammal\"\n",
    "prediction$feathers <-NULL\n",
    "prediction$pred.feathers <-as.factor(prediction$pred.feathers)"
   ]
  },
  {
   "cell_type": "code",
   "execution_count": 9,
   "metadata": {},
   "outputs": [
    {
     "data": {
      "text/html": [
       "<table>\n",
       "<caption>A data.frame: 2 × 4</caption>\n",
       "<thead>\n",
       "\t<tr><th scope=col>Label</th><th scope=col>Freq</th><th scope=col>Mammal</th><th scope=col>NotMammal</th></tr>\n",
       "\t<tr><th scope=col>&lt;fct&gt;</th><th scope=col>&lt;int&gt;</th><th scope=col>&lt;int&gt;</th><th scope=col>&lt;int&gt;</th></tr>\n",
       "</thead>\n",
       "<tbody>\n",
       "\t<tr><td>FALSE</td><td>37</td><td> 2</td><td>35</td></tr>\n",
       "\t<tr><td>TRUE </td><td>54</td><td>54</td><td>NA</td></tr>\n",
       "</tbody>\n",
       "</table>\n"
      ],
      "text/latex": [
       "A data.frame: 2 × 4\n",
       "\\begin{tabular}{llll}\n",
       " Label & Freq & Mammal & NotMammal\\\\\n",
       " <fct> & <int> & <int> & <int>\\\\\n",
       "\\hline\n",
       "\t FALSE & 37 &  2 & 35\\\\\n",
       "\t TRUE  & 54 & 54 & NA\\\\\n",
       "\\end{tabular}\n"
      ],
      "text/markdown": [
       "\n",
       "A data.frame: 2 × 4\n",
       "\n",
       "| Label &lt;fct&gt; | Freq &lt;int&gt; | Mammal &lt;int&gt; | NotMammal &lt;int&gt; |\n",
       "|---|---|---|---|\n",
       "| FALSE | 37 |  2 | 35 |\n",
       "| TRUE  | 54 | 54 | NA |\n",
       "\n"
      ],
      "text/plain": [
       "  Label Freq Mammal NotMammal\n",
       "1 FALSE 37    2     35       \n",
       "2 TRUE  54   54     NA       "
      ]
     },
     "metadata": {},
     "output_type": "display_data"
    }
   ],
   "source": [
    "#Eggs\n",
    "\n",
    "eggs.count<-as.data.frame(table(train$eggs))\n",
    "eggs.true <-as.data.frame(table(train[train$type == \"NotMammal\",]$eggs))\n",
    "eggs.false <-as.data.frame(table(train[train$type == \"Mammal\",]$eggs))\n",
    "\n",
    "\n",
    "eggs.count <-eggs.count %>%rename(Label=Var1)\n",
    "eggs.true <-eggs.true %>%rename(Label=Var1,Mammal=Freq)\n",
    "eggs.false <-eggs.false  %>%rename(Label=Var1,NotMammal=Freq)\n",
    "eggs <-merge(eggs.count,eggs.true, bye=Label,all=TRUE)\n",
    "eggs <-merge(eggs,eggs.false, bye=Label,all=TRUE)\n",
    "eggs\n"
   ]
  },
  {
   "cell_type": "code",
   "execution_count": 10,
   "metadata": {},
   "outputs": [],
   "source": [
    "prediction$pred.eggs <-NA\n",
    "prediction$pred.eggs[prediction$eggs==\"TRUE\"] <- \"NotMammal\"\n",
    "prediction$pred.eggs[prediction$eggs==\"FALSE\"] <- \"Mammal\"\n",
    "prediction$eggs <-NULL\n",
    "prediction$pred.eggs <-as.factor(prediction$pred.eggs)"
   ]
  },
  {
   "cell_type": "code",
   "execution_count": 11,
   "metadata": {},
   "outputs": [
    {
     "data": {
      "text/html": [
       "<table>\n",
       "<caption>A data.frame: 2 × 4</caption>\n",
       "<thead>\n",
       "\t<tr><th scope=col>Label</th><th scope=col>Freq</th><th scope=col>Mammal</th><th scope=col>NotMammal</th></tr>\n",
       "\t<tr><th scope=col>&lt;fct&gt;</th><th scope=col>&lt;int&gt;</th><th scope=col>&lt;int&gt;</th><th scope=col>&lt;int&gt;</th></tr>\n",
       "</thead>\n",
       "<tbody>\n",
       "\t<tr><td>FALSE</td><td>56</td><td>NA</td><td>56</td></tr>\n",
       "\t<tr><td>TRUE </td><td>35</td><td>35</td><td>NA</td></tr>\n",
       "</tbody>\n",
       "</table>\n"
      ],
      "text/latex": [
       "A data.frame: 2 × 4\n",
       "\\begin{tabular}{llll}\n",
       " Label & Freq & Mammal & NotMammal\\\\\n",
       " <fct> & <int> & <int> & <int>\\\\\n",
       "\\hline\n",
       "\t FALSE & 56 & NA & 56\\\\\n",
       "\t TRUE  & 35 & 35 & NA\\\\\n",
       "\\end{tabular}\n"
      ],
      "text/markdown": [
       "\n",
       "A data.frame: 2 × 4\n",
       "\n",
       "| Label &lt;fct&gt; | Freq &lt;int&gt; | Mammal &lt;int&gt; | NotMammal &lt;int&gt; |\n",
       "|---|---|---|---|\n",
       "| FALSE | 56 | NA | 56 |\n",
       "| TRUE  | 35 | 35 | NA |\n",
       "\n"
      ],
      "text/plain": [
       "  Label Freq Mammal NotMammal\n",
       "1 FALSE 56   NA     56       \n",
       "2 TRUE  35   35     NA       "
      ]
     },
     "metadata": {},
     "output_type": "display_data"
    }
   ],
   "source": [
    "#Milk\n",
    "\n",
    "milk.count<-as.data.frame(table(train$milk))\n",
    "milk.true <-as.data.frame(table(train[train$type == \"Mammal\",]$milk))\n",
    "milk.false <-as.data.frame(table(train[train$type == \"NotMammal\",]$milk))\n",
    "\n",
    "\n",
    "milk.count <-milk.count %>%rename(Label=Var1)\n",
    "milk.true <-milk.true %>%rename(Label=Var1,Mammal=Freq)\n",
    "milk.false <-milk.false  %>%rename(Label=Var1,NotMammal=Freq)\n",
    "milk <-merge(milk.count,milk.true, bye=Label,all=TRUE)\n",
    "milk <-merge(milk,milk.false, bye=Label,all=TRUE)\n",
    "milk"
   ]
  },
  {
   "cell_type": "code",
   "execution_count": 12,
   "metadata": {},
   "outputs": [],
   "source": [
    "prediction$pred.milk <-NA\n",
    "prediction$pred.milk[prediction$milk==\"TRUE\"] <- \"Mammal\"\n",
    "prediction$pred.milk[prediction$milk==\"FALSE\"] <- \"NotMammal\"\n",
    "prediction$milk <-NULL\n",
    "prediction$pred.milk <-as.factor(prediction$pred.milk)"
   ]
  },
  {
   "cell_type": "code",
   "execution_count": 13,
   "metadata": {
    "scrolled": true
   },
   "outputs": [
    {
     "data": {
      "text/html": [
       "<table>\n",
       "<caption>A data.frame: 2 × 4</caption>\n",
       "<thead>\n",
       "\t<tr><th scope=col>Label</th><th scope=col>Freq</th><th scope=col>Mammal</th><th scope=col>NotMammal</th></tr>\n",
       "\t<tr><th scope=col>&lt;fct&gt;</th><th scope=col>&lt;int&gt;</th><th scope=col>&lt;int&gt;</th><th scope=col>&lt;int&gt;</th></tr>\n",
       "</thead>\n",
       "<tbody>\n",
       "\t<tr><td>FALSE</td><td>70</td><td>37</td><td>33</td></tr>\n",
       "\t<tr><td>TRUE </td><td>21</td><td>19</td><td> 2</td></tr>\n",
       "</tbody>\n",
       "</table>\n"
      ],
      "text/latex": [
       "A data.frame: 2 × 4\n",
       "\\begin{tabular}{llll}\n",
       " Label & Freq & Mammal & NotMammal\\\\\n",
       " <fct> & <int> & <int> & <int>\\\\\n",
       "\\hline\n",
       "\t FALSE & 70 & 37 & 33\\\\\n",
       "\t TRUE  & 21 & 19 &  2\\\\\n",
       "\\end{tabular}\n"
      ],
      "text/markdown": [
       "\n",
       "A data.frame: 2 × 4\n",
       "\n",
       "| Label &lt;fct&gt; | Freq &lt;int&gt; | Mammal &lt;int&gt; | NotMammal &lt;int&gt; |\n",
       "|---|---|---|---|\n",
       "| FALSE | 70 | 37 | 33 |\n",
       "| TRUE  | 21 | 19 |  2 |\n",
       "\n"
      ],
      "text/plain": [
       "  Label Freq Mammal NotMammal\n",
       "1 FALSE 70   37     33       \n",
       "2 TRUE  21   19      2       "
      ]
     },
     "metadata": {},
     "output_type": "display_data"
    }
   ],
   "source": [
    "#Airborne\n",
    "\n",
    "airborne.count<-as.data.frame(table(train$airborne))\n",
    "airborne.true <-as.data.frame(table(train[train$type == \"NotMammal\",]$airborne))\n",
    "airborne.false <-as.data.frame(table(train[train$type == \"Mammal\",]$airborne))\n",
    "\n",
    "\n",
    "airborne.count <-airborne.count %>%rename(Label=Var1)\n",
    "airborne.true <-airborne.true %>%rename(Label=Var1,Mammal=Freq)\n",
    "airborne.false <-airborne.false  %>%rename(Label=Var1,NotMammal=Freq)\n",
    "airborne <-merge(airborne.count,airborne.true, bye=Label,all=TRUE)\n",
    "airborne <-merge(airborne,airborne.false, bye=Label,all=TRUE)\n",
    "airborne\n"
   ]
  },
  {
   "cell_type": "code",
   "execution_count": 14,
   "metadata": {},
   "outputs": [],
   "source": [
    "prediction$pred.airborne <-NA\n",
    "prediction$pred.airborne[prediction$airborne==\"TRUE\"] <- \"NotMammal\"\n",
    "prediction$pred.airborne[prediction$airborne==\"FALSE\"] <- \"Mammal\"\n",
    "prediction$airborne <-NULL\n",
    "prediction$pred.airborne <-as.factor(prediction$pred.airborne)"
   ]
  },
  {
   "cell_type": "code",
   "execution_count": 15,
   "metadata": {},
   "outputs": [
    {
     "data": {
      "text/html": [
       "<table>\n",
       "<caption>A data.frame: 2 × 4</caption>\n",
       "<thead>\n",
       "\t<tr><th scope=col>Label</th><th scope=col>Freq</th><th scope=col>Mammal</th><th scope=col>NotMammal</th></tr>\n",
       "\t<tr><th scope=col>&lt;fct&gt;</th><th scope=col>&lt;int&gt;</th><th scope=col>&lt;int&gt;</th><th scope=col>&lt;int&gt;</th></tr>\n",
       "</thead>\n",
       "<tbody>\n",
       "\t<tr><td>FALSE</td><td>58</td><td>27</td><td>31</td></tr>\n",
       "\t<tr><td>TRUE </td><td>33</td><td>29</td><td> 4</td></tr>\n",
       "</tbody>\n",
       "</table>\n"
      ],
      "text/latex": [
       "A data.frame: 2 × 4\n",
       "\\begin{tabular}{llll}\n",
       " Label & Freq & Mammal & NotMammal\\\\\n",
       " <fct> & <int> & <int> & <int>\\\\\n",
       "\\hline\n",
       "\t FALSE & 58 & 27 & 31\\\\\n",
       "\t TRUE  & 33 & 29 &  4\\\\\n",
       "\\end{tabular}\n"
      ],
      "text/markdown": [
       "\n",
       "A data.frame: 2 × 4\n",
       "\n",
       "| Label &lt;fct&gt; | Freq &lt;int&gt; | Mammal &lt;int&gt; | NotMammal &lt;int&gt; |\n",
       "|---|---|---|---|\n",
       "| FALSE | 58 | 27 | 31 |\n",
       "| TRUE  | 33 | 29 |  4 |\n",
       "\n"
      ],
      "text/plain": [
       "  Label Freq Mammal NotMammal\n",
       "1 FALSE 58   27     31       \n",
       "2 TRUE  33   29      4       "
      ]
     },
     "metadata": {},
     "output_type": "display_data"
    }
   ],
   "source": [
    "#Aquatic\n",
    "\n",
    "aquatic.count<-as.data.frame(table(train$aquatic))\n",
    "aquatic.true <-as.data.frame(table(train[train$type == \"NotMammal\",]$aquatic))\n",
    "aquatic.false <-as.data.frame(table(train[train$type == \"Mammal\",]$aquatic))\n",
    "\n",
    "\n",
    "aquatic.count <-aquatic.count %>%rename(Label=Var1)\n",
    "aquatic.true <-aquatic.true %>%rename(Label=Var1,Mammal=Freq)\n",
    "aquatic.false <-aquatic.false  %>%rename(Label=Var1,NotMammal=Freq)\n",
    "aquatic <-merge(aquatic.count,aquatic.true, bye=Label,all=TRUE)\n",
    "aquatic <-merge(aquatic,aquatic.false, bye=Label,all=TRUE)\n",
    "aquatic\n"
   ]
  },
  {
   "cell_type": "code",
   "execution_count": 16,
   "metadata": {},
   "outputs": [],
   "source": [
    "prediction$pred.aquatic <-NA\n",
    "prediction$pred.aquatic[prediction$aquatic==\"TRUE\"] <- \"NotMammal\"\n",
    "prediction$pred.aquatic[prediction$aquatic==\"FALSE\"] <- \"Mammal\"\n",
    "prediction$aquatic <-NULL\n",
    "prediction$pred.aquatic <-as.factor(prediction$pred.aquatic)"
   ]
  },
  {
   "cell_type": "code",
   "execution_count": 17,
   "metadata": {},
   "outputs": [
    {
     "data": {
      "text/html": [
       "<table>\n",
       "<caption>A data.frame: 2 × 4</caption>\n",
       "<thead>\n",
       "\t<tr><th scope=col>Label</th><th scope=col>Freq</th><th scope=col>Mammal</th><th scope=col>NotMammal</th></tr>\n",
       "\t<tr><th scope=col>&lt;fct&gt;</th><th scope=col>&lt;int&gt;</th><th scope=col>&lt;int&gt;</th><th scope=col>&lt;int&gt;</th></tr>\n",
       "</thead>\n",
       "<tbody>\n",
       "\t<tr><td>FALSE</td><td>41</td><td>18</td><td>23</td></tr>\n",
       "\t<tr><td>TRUE </td><td>50</td><td>17</td><td>33</td></tr>\n",
       "</tbody>\n",
       "</table>\n"
      ],
      "text/latex": [
       "A data.frame: 2 × 4\n",
       "\\begin{tabular}{llll}\n",
       " Label & Freq & Mammal & NotMammal\\\\\n",
       " <fct> & <int> & <int> & <int>\\\\\n",
       "\\hline\n",
       "\t FALSE & 41 & 18 & 23\\\\\n",
       "\t TRUE  & 50 & 17 & 33\\\\\n",
       "\\end{tabular}\n"
      ],
      "text/markdown": [
       "\n",
       "A data.frame: 2 × 4\n",
       "\n",
       "| Label &lt;fct&gt; | Freq &lt;int&gt; | Mammal &lt;int&gt; | NotMammal &lt;int&gt; |\n",
       "|---|---|---|---|\n",
       "| FALSE | 41 | 18 | 23 |\n",
       "| TRUE  | 50 | 17 | 33 |\n",
       "\n"
      ],
      "text/plain": [
       "  Label Freq Mammal NotMammal\n",
       "1 FALSE 41   18     23       \n",
       "2 TRUE  50   17     33       "
      ]
     },
     "metadata": {},
     "output_type": "display_data"
    }
   ],
   "source": [
    "#Predator\n",
    "\n",
    "predator.count<-as.data.frame(table(train$predator))\n",
    "predator.true <-as.data.frame(table(train[train$type == \"Mammal\",]$predator))\n",
    "predator.false <-as.data.frame(table(train[train$type == \"NotMammal\",]$predator))\n",
    "\n",
    "\n",
    "predator.count <-predator.count %>%rename(Label=Var1)\n",
    "predator.true <-predator.true %>%rename(Label=Var1,Mammal=Freq)\n",
    "predator.false <-predator.false  %>%rename(Label=Var1,NotMammal=Freq)\n",
    "predator <-merge(predator.count,predator.true, bye=Label,all=TRUE)\n",
    "predator <-merge(predator,predator.false, bye=Label,all=TRUE)\n",
    "predator"
   ]
  },
  {
   "cell_type": "code",
   "execution_count": 18,
   "metadata": {},
   "outputs": [],
   "source": [
    "prediction$pred.predator <-NA\n",
    "prediction$pred.predator[prediction$predator==\"TRUE\"] <- \"Mammal\"\n",
    "prediction$pred.predator[prediction$predator==\"FALSE\"] <- \"NotMammal\"\n",
    "prediction$predator <-NULL\n",
    "prediction$pred.predator <-as.factor(prediction$pred.predator)"
   ]
  },
  {
   "cell_type": "code",
   "execution_count": 19,
   "metadata": {},
   "outputs": [
    {
     "data": {
      "text/html": [
       "<table>\n",
       "<caption>A data.frame: 2 × 4</caption>\n",
       "<thead>\n",
       "\t<tr><th scope=col>Label</th><th scope=col>Freq</th><th scope=col>Mammal</th><th scope=col>NotMammal</th></tr>\n",
       "\t<tr><th scope=col>&lt;fct&gt;</th><th scope=col>&lt;int&gt;</th><th scope=col>&lt;int&gt;</th><th scope=col>&lt;int&gt;</th></tr>\n",
       "</thead>\n",
       "<tbody>\n",
       "\t<tr><td>FALSE</td><td>36</td><td>NA</td><td>36</td></tr>\n",
       "\t<tr><td>TRUE </td><td>55</td><td>35</td><td>20</td></tr>\n",
       "</tbody>\n",
       "</table>\n"
      ],
      "text/latex": [
       "A data.frame: 2 × 4\n",
       "\\begin{tabular}{llll}\n",
       " Label & Freq & Mammal & NotMammal\\\\\n",
       " <fct> & <int> & <int> & <int>\\\\\n",
       "\\hline\n",
       "\t FALSE & 36 & NA & 36\\\\\n",
       "\t TRUE  & 55 & 35 & 20\\\\\n",
       "\\end{tabular}\n"
      ],
      "text/markdown": [
       "\n",
       "A data.frame: 2 × 4\n",
       "\n",
       "| Label &lt;fct&gt; | Freq &lt;int&gt; | Mammal &lt;int&gt; | NotMammal &lt;int&gt; |\n",
       "|---|---|---|---|\n",
       "| FALSE | 36 | NA | 36 |\n",
       "| TRUE  | 55 | 35 | 20 |\n",
       "\n"
      ],
      "text/plain": [
       "  Label Freq Mammal NotMammal\n",
       "1 FALSE 36   NA     36       \n",
       "2 TRUE  55   35     20       "
      ]
     },
     "metadata": {},
     "output_type": "display_data"
    }
   ],
   "source": [
    "#Toothed\n",
    "\n",
    "toothed.count<-as.data.frame(table(train$toothed))\n",
    "toothed.true <-as.data.frame(table(train[train$type == \"Mammal\",]$toothed))\n",
    "toothed.false <-as.data.frame(table(train[train$type == \"NotMammal\",]$toothed))\n",
    "\n",
    "\n",
    "toothed.count <-toothed.count %>%rename(Label=Var1)\n",
    "toothed.true <-toothed.true %>%rename(Label=Var1,Mammal=Freq)\n",
    "toothed.false <-toothed.false  %>%rename(Label=Var1,NotMammal=Freq)\n",
    "toothed <-merge(toothed.count,toothed.true, bye=Label,all=TRUE)\n",
    "toothed <-merge(toothed,toothed.false, bye=Label,all=TRUE)\n",
    "toothed"
   ]
  },
  {
   "cell_type": "code",
   "execution_count": 20,
   "metadata": {},
   "outputs": [],
   "source": [
    "prediction$pred.toothed <-NA\n",
    "prediction$pred.toothed[prediction$toothed==\"TRUE\"] <- \"Mammal\"\n",
    "prediction$pred.toothed[prediction$toothed==\"FALSE\"] <- \"NotMammal\"\n",
    "prediction$toothed <-NULL\n",
    "prediction$pred.toothed <-as.factor(prediction$pred.toothed)"
   ]
  },
  {
   "cell_type": "code",
   "execution_count": 21,
   "metadata": {},
   "outputs": [
    {
     "data": {
      "text/html": [
       "<table>\n",
       "<caption>A data.frame: 2 × 4</caption>\n",
       "<thead>\n",
       "\t<tr><th scope=col>Label</th><th scope=col>Freq</th><th scope=col>Mammal</th><th scope=col>NotMammal</th></tr>\n",
       "\t<tr><th scope=col>&lt;fct&gt;</th><th scope=col>&lt;int&gt;</th><th scope=col>&lt;int&gt;</th><th scope=col>&lt;int&gt;</th></tr>\n",
       "</thead>\n",
       "<tbody>\n",
       "\t<tr><td>FALSE</td><td>18</td><td>NA</td><td>18</td></tr>\n",
       "\t<tr><td>TRUE </td><td>73</td><td>35</td><td>38</td></tr>\n",
       "</tbody>\n",
       "</table>\n"
      ],
      "text/latex": [
       "A data.frame: 2 × 4\n",
       "\\begin{tabular}{llll}\n",
       " Label & Freq & Mammal & NotMammal\\\\\n",
       " <fct> & <int> & <int> & <int>\\\\\n",
       "\\hline\n",
       "\t FALSE & 18 & NA & 18\\\\\n",
       "\t TRUE  & 73 & 35 & 38\\\\\n",
       "\\end{tabular}\n"
      ],
      "text/markdown": [
       "\n",
       "A data.frame: 2 × 4\n",
       "\n",
       "| Label &lt;fct&gt; | Freq &lt;int&gt; | Mammal &lt;int&gt; | NotMammal &lt;int&gt; |\n",
       "|---|---|---|---|\n",
       "| FALSE | 18 | NA | 18 |\n",
       "| TRUE  | 73 | 35 | 38 |\n",
       "\n"
      ],
      "text/plain": [
       "  Label Freq Mammal NotMammal\n",
       "1 FALSE 18   NA     18       \n",
       "2 TRUE  73   35     38       "
      ]
     },
     "metadata": {},
     "output_type": "display_data"
    }
   ],
   "source": [
    "#Backbone\n",
    "\n",
    "backbone.count<-as.data.frame(table(train$backbone))\n",
    "backbone.true <-as.data.frame(table(train[train$type == \"Mammal\",]$backbone))\n",
    "backbone.false <-as.data.frame(table(train[train$type == \"NotMammal\",]$backbone))\n",
    "\n",
    "\n",
    "backbone.count <-backbone.count %>%rename(Label=Var1)\n",
    "backbone.true <-backbone.true %>%rename(Label=Var1,Mammal=Freq)\n",
    "backbone.false <-backbone.false  %>%rename(Label=Var1,NotMammal=Freq)\n",
    "backbone <-merge(backbone.count,backbone.true, bye=Label,all=TRUE)\n",
    "backbone <-merge(backbone,backbone.false, bye=Label,all=TRUE)\n",
    "backbone"
   ]
  },
  {
   "cell_type": "code",
   "execution_count": 22,
   "metadata": {},
   "outputs": [],
   "source": [
    "prediction$pred.backbone <-NA\n",
    "prediction$pred.backbone[prediction$backbone==\"TRUE\"] <- \"Mammal\"\n",
    "prediction$pred.backbone[prediction$backbone==\"FALSE\"] <- \"NotMammal\"\n",
    "prediction$backbone <-NULL\n",
    "prediction$pred.backbone <-as.factor(prediction$pred.backbone)"
   ]
  },
  {
   "cell_type": "code",
   "execution_count": 23,
   "metadata": {},
   "outputs": [
    {
     "data": {
      "text/html": [
       "<table>\n",
       "<caption>A data.frame: 2 × 4</caption>\n",
       "<thead>\n",
       "\t<tr><th scope=col>Label</th><th scope=col>Freq</th><th scope=col>Mammal</th><th scope=col>NotMammal</th></tr>\n",
       "\t<tr><th scope=col>&lt;fct&gt;</th><th scope=col>&lt;int&gt;</th><th scope=col>&lt;int&gt;</th><th scope=col>&lt;int&gt;</th></tr>\n",
       "</thead>\n",
       "<tbody>\n",
       "\t<tr><td>FALSE</td><td>20</td><td>NA</td><td>20</td></tr>\n",
       "\t<tr><td>TRUE </td><td>71</td><td>35</td><td>36</td></tr>\n",
       "</tbody>\n",
       "</table>\n"
      ],
      "text/latex": [
       "A data.frame: 2 × 4\n",
       "\\begin{tabular}{llll}\n",
       " Label & Freq & Mammal & NotMammal\\\\\n",
       " <fct> & <int> & <int> & <int>\\\\\n",
       "\\hline\n",
       "\t FALSE & 20 & NA & 20\\\\\n",
       "\t TRUE  & 71 & 35 & 36\\\\\n",
       "\\end{tabular}\n"
      ],
      "text/markdown": [
       "\n",
       "A data.frame: 2 × 4\n",
       "\n",
       "| Label &lt;fct&gt; | Freq &lt;int&gt; | Mammal &lt;int&gt; | NotMammal &lt;int&gt; |\n",
       "|---|---|---|---|\n",
       "| FALSE | 20 | NA | 20 |\n",
       "| TRUE  | 71 | 35 | 36 |\n",
       "\n"
      ],
      "text/plain": [
       "  Label Freq Mammal NotMammal\n",
       "1 FALSE 20   NA     20       \n",
       "2 TRUE  71   35     36       "
      ]
     },
     "metadata": {},
     "output_type": "display_data"
    }
   ],
   "source": [
    "#Breathes\n",
    "\n",
    "breathes.count<-as.data.frame(table(train$breathes))\n",
    "breathes.true <-as.data.frame(table(train[train$type == \"Mammal\",]$breathes))\n",
    "breathes.false <-as.data.frame(table(train[train$type == \"NotMammal\",]$breathes))\n",
    "\n",
    "\n",
    "breathes.count <-breathes.count %>%rename(Label=Var1)\n",
    "breathes.true <-breathes.true %>%rename(Label=Var1,Mammal=Freq)\n",
    "breathes.false <-breathes.false  %>%rename(Label=Var1,NotMammal=Freq)\n",
    "breathes <-merge(breathes.count,breathes.true, bye=Label,all=TRUE)\n",
    "breathes <-merge(breathes,breathes.false, bye=Label,all=TRUE)\n",
    "breathes"
   ]
  },
  {
   "cell_type": "code",
   "execution_count": 24,
   "metadata": {},
   "outputs": [],
   "source": [
    "prediction$pred.breathes <-NA\n",
    "prediction$pred.breathes[prediction$breathes==\"TRUE\"] <- \"Mammal\"\n",
    "prediction$pred.breathes[prediction$breathes==\"FALSE\"] <- \"NotMammal\"\n",
    "prediction$breathes <-NULL\n",
    "prediction$pred.breathes <-as.factor(prediction$pred.breathes)"
   ]
  },
  {
   "cell_type": "code",
   "execution_count": 25,
   "metadata": {},
   "outputs": [
    {
     "data": {
      "text/html": [
       "<table>\n",
       "<caption>A data.frame: 2 × 4</caption>\n",
       "<thead>\n",
       "\t<tr><th scope=col>Label</th><th scope=col>Freq</th><th scope=col>Mammal</th><th scope=col>NotMammal</th></tr>\n",
       "\t<tr><th scope=col>&lt;fct&gt;</th><th scope=col>&lt;int&gt;</th><th scope=col>&lt;int&gt;</th><th scope=col>&lt;int&gt;</th></tr>\n",
       "</thead>\n",
       "<tbody>\n",
       "\t<tr><td>FALSE</td><td>83</td><td>48</td><td>35</td></tr>\n",
       "\t<tr><td>TRUE </td><td> 8</td><td> 8</td><td>NA</td></tr>\n",
       "</tbody>\n",
       "</table>\n"
      ],
      "text/latex": [
       "A data.frame: 2 × 4\n",
       "\\begin{tabular}{llll}\n",
       " Label & Freq & Mammal & NotMammal\\\\\n",
       " <fct> & <int> & <int> & <int>\\\\\n",
       "\\hline\n",
       "\t FALSE & 83 & 48 & 35\\\\\n",
       "\t TRUE  &  8 &  8 & NA\\\\\n",
       "\\end{tabular}\n"
      ],
      "text/markdown": [
       "\n",
       "A data.frame: 2 × 4\n",
       "\n",
       "| Label &lt;fct&gt; | Freq &lt;int&gt; | Mammal &lt;int&gt; | NotMammal &lt;int&gt; |\n",
       "|---|---|---|---|\n",
       "| FALSE | 83 | 48 | 35 |\n",
       "| TRUE  |  8 |  8 | NA |\n",
       "\n"
      ],
      "text/plain": [
       "  Label Freq Mammal NotMammal\n",
       "1 FALSE 83   48     35       \n",
       "2 TRUE   8    8     NA       "
      ]
     },
     "metadata": {},
     "output_type": "display_data"
    }
   ],
   "source": [
    "#Venomous\n",
    "\n",
    "venomous.count<-as.data.frame(table(train$venomous))\n",
    "venomous.true <-as.data.frame(table(train[train$type == \"NotMammal\",]$venomous))\n",
    "venomous.false <-as.data.frame(table(train[train$type == \"Mammal\",]$venomous))\n",
    "\n",
    "\n",
    "venomous.count <-venomous.count %>%rename(Label=Var1)\n",
    "venomous.true <-venomous.true %>%rename(Label=Var1,Mammal=Freq)\n",
    "venomous.false <-venomous.false  %>%rename(Label=Var1,NotMammal=Freq)\n",
    "venomous <-merge(venomous.count,venomous.true, bye=Label,all=TRUE)\n",
    "venomous <-merge(venomous,venomous.false, bye=Label,all=TRUE)\n",
    "venomous"
   ]
  },
  {
   "cell_type": "code",
   "execution_count": 26,
   "metadata": {},
   "outputs": [],
   "source": [
    "prediction$pred.venomous <-NA\n",
    "prediction$pred.venomous[prediction$venomous==\"TRUE\"] <- \"NotMammal\"\n",
    "prediction$pred.venomous[prediction$venomous==\"FALSE\"] <- \"Mammal\"\n",
    "prediction$venomous <-NULL\n",
    "prediction$pred.venomous <-as.factor(prediction$pred.venomous)"
   ]
  },
  {
   "cell_type": "code",
   "execution_count": 27,
   "metadata": {},
   "outputs": [
    {
     "data": {
      "text/html": [
       "<table>\n",
       "<caption>A data.frame: 2 × 4</caption>\n",
       "<thead>\n",
       "\t<tr><th scope=col>Label</th><th scope=col>Freq</th><th scope=col>Mammal</th><th scope=col>NotMammal</th></tr>\n",
       "\t<tr><th scope=col>&lt;fct&gt;</th><th scope=col>&lt;int&gt;</th><th scope=col>&lt;int&gt;</th><th scope=col>&lt;int&gt;</th></tr>\n",
       "</thead>\n",
       "<tbody>\n",
       "\t<tr><td>FALSE</td><td>76</td><td>44</td><td>32</td></tr>\n",
       "\t<tr><td>TRUE </td><td>15</td><td>12</td><td> 3</td></tr>\n",
       "</tbody>\n",
       "</table>\n"
      ],
      "text/latex": [
       "A data.frame: 2 × 4\n",
       "\\begin{tabular}{llll}\n",
       " Label & Freq & Mammal & NotMammal\\\\\n",
       " <fct> & <int> & <int> & <int>\\\\\n",
       "\\hline\n",
       "\t FALSE & 76 & 44 & 32\\\\\n",
       "\t TRUE  & 15 & 12 &  3\\\\\n",
       "\\end{tabular}\n"
      ],
      "text/markdown": [
       "\n",
       "A data.frame: 2 × 4\n",
       "\n",
       "| Label &lt;fct&gt; | Freq &lt;int&gt; | Mammal &lt;int&gt; | NotMammal &lt;int&gt; |\n",
       "|---|---|---|---|\n",
       "| FALSE | 76 | 44 | 32 |\n",
       "| TRUE  | 15 | 12 |  3 |\n",
       "\n"
      ],
      "text/plain": [
       "  Label Freq Mammal NotMammal\n",
       "1 FALSE 76   44     32       \n",
       "2 TRUE  15   12      3       "
      ]
     },
     "metadata": {},
     "output_type": "display_data"
    }
   ],
   "source": [
    "#Fins\n",
    "\n",
    "fins.count<-as.data.frame(table(train$fins))\n",
    "fins.true <-as.data.frame(table(train[train$type == \"NotMammal\",]$fins))\n",
    "fins.false <-as.data.frame(table(train[train$type == \"Mammal\",]$fins))\n",
    "\n",
    "\n",
    "fins.count <-fins.count %>%rename(Label=Var1)\n",
    "fins.true <-fins.true %>%rename(Label=Var1,Mammal=Freq)\n",
    "fins.false <-fins.false  %>%rename(Label=Var1,NotMammal=Freq)\n",
    "fins <-merge(fins.count,fins.true, bye=Label,all=TRUE)\n",
    "fins <-merge(fins,fins.false, bye=Label,all=TRUE)\n",
    "fins"
   ]
  },
  {
   "cell_type": "code",
   "execution_count": 28,
   "metadata": {},
   "outputs": [],
   "source": [
    "prediction$pred.fins <-NA\n",
    "prediction$pred.fins[prediction$fins==\"TRUE\"] <- \"NotMammal\"\n",
    "prediction$pred.fins[prediction$fins==\"FALSE\"] <- \"Mammal\"\n",
    "prediction$fins <-NULL\n",
    "prediction$pred.fins <-as.factor(prediction$pred.fins)"
   ]
  },
  {
   "cell_type": "code",
   "execution_count": 29,
   "metadata": {},
   "outputs": [
    {
     "data": {
      "text/html": [
       "<table>\n",
       "<caption>A data.frame: 2 × 4</caption>\n",
       "<thead>\n",
       "\t<tr><th scope=col>Label</th><th scope=col>Freq</th><th scope=col>Mammal</th><th scope=col>NotMammal</th></tr>\n",
       "\t<tr><th scope=col>&lt;fct&gt;</th><th scope=col>&lt;int&gt;</th><th scope=col>&lt;int&gt;</th><th scope=col>&lt;int&gt;</th></tr>\n",
       "</thead>\n",
       "<tbody>\n",
       "\t<tr><td>FALSE</td><td>25</td><td> 5</td><td>20</td></tr>\n",
       "\t<tr><td>TRUE </td><td>66</td><td>30</td><td>36</td></tr>\n",
       "</tbody>\n",
       "</table>\n"
      ],
      "text/latex": [
       "A data.frame: 2 × 4\n",
       "\\begin{tabular}{llll}\n",
       " Label & Freq & Mammal & NotMammal\\\\\n",
       " <fct> & <int> & <int> & <int>\\\\\n",
       "\\hline\n",
       "\t FALSE & 25 &  5 & 20\\\\\n",
       "\t TRUE  & 66 & 30 & 36\\\\\n",
       "\\end{tabular}\n"
      ],
      "text/markdown": [
       "\n",
       "A data.frame: 2 × 4\n",
       "\n",
       "| Label &lt;fct&gt; | Freq &lt;int&gt; | Mammal &lt;int&gt; | NotMammal &lt;int&gt; |\n",
       "|---|---|---|---|\n",
       "| FALSE | 25 |  5 | 20 |\n",
       "| TRUE  | 66 | 30 | 36 |\n",
       "\n"
      ],
      "text/plain": [
       "  Label Freq Mammal NotMammal\n",
       "1 FALSE 25    5     20       \n",
       "2 TRUE  66   30     36       "
      ]
     },
     "metadata": {},
     "output_type": "display_data"
    }
   ],
   "source": [
    "#Tail\n",
    "\n",
    "tail.count<-as.data.frame(table(train$tail))\n",
    "tail.true <-as.data.frame(table(train[train$type == \"Mammal\",]$tail))\n",
    "tail.false <-as.data.frame(table(train[train$type == \"NotMammal\",]$tail))\n",
    "\n",
    "\n",
    "tail.count <-tail.count %>%rename(Label=Var1)\n",
    "tail.true <-tail.true %>%rename(Label=Var1,Mammal=Freq)\n",
    "tail.false <-tail.false  %>%rename(Label=Var1,NotMammal=Freq)\n",
    "tail <-merge(tail.count,tail.true, bye=Label,all=TRUE)\n",
    "tail <-merge(tail,tail.false, bye=Label,all=TRUE)\n",
    "tail"
   ]
  },
  {
   "cell_type": "code",
   "execution_count": 30,
   "metadata": {},
   "outputs": [],
   "source": [
    "prediction$pred.tail <-NA\n",
    "prediction$pred.tail[prediction$tail==\"TRUE\"] <- \"Mammal\"\n",
    "prediction$pred.tail[prediction$tail==\"FALSE\"] <- \"NotMammal\"\n",
    "prediction$tail <-NULL\n",
    "prediction$pred.tail <-as.factor(prediction$pred.tail)"
   ]
  },
  {
   "cell_type": "code",
   "execution_count": 31,
   "metadata": {},
   "outputs": [
    {
     "data": {
      "text/html": [
       "<table>\n",
       "<caption>A data.frame: 2 × 4</caption>\n",
       "<thead>\n",
       "\t<tr><th scope=col>Label</th><th scope=col>Freq</th><th scope=col>Mammal</th><th scope=col>NotMammal</th></tr>\n",
       "\t<tr><th scope=col>&lt;fct&gt;</th><th scope=col>&lt;int&gt;</th><th scope=col>&lt;int&gt;</th><th scope=col>&lt;int&gt;</th></tr>\n",
       "</thead>\n",
       "<tbody>\n",
       "\t<tr><td>FALSE</td><td>80</td><td>27</td><td>53</td></tr>\n",
       "\t<tr><td>TRUE </td><td>11</td><td> 8</td><td> 3</td></tr>\n",
       "</tbody>\n",
       "</table>\n"
      ],
      "text/latex": [
       "A data.frame: 2 × 4\n",
       "\\begin{tabular}{llll}\n",
       " Label & Freq & Mammal & NotMammal\\\\\n",
       " <fct> & <int> & <int> & <int>\\\\\n",
       "\\hline\n",
       "\t FALSE & 80 & 27 & 53\\\\\n",
       "\t TRUE  & 11 &  8 &  3\\\\\n",
       "\\end{tabular}\n"
      ],
      "text/markdown": [
       "\n",
       "A data.frame: 2 × 4\n",
       "\n",
       "| Label &lt;fct&gt; | Freq &lt;int&gt; | Mammal &lt;int&gt; | NotMammal &lt;int&gt; |\n",
       "|---|---|---|---|\n",
       "| FALSE | 80 | 27 | 53 |\n",
       "| TRUE  | 11 |  8 |  3 |\n",
       "\n"
      ],
      "text/plain": [
       "  Label Freq Mammal NotMammal\n",
       "1 FALSE 80   27     53       \n",
       "2 TRUE  11    8      3       "
      ]
     },
     "metadata": {},
     "output_type": "display_data"
    }
   ],
   "source": [
    "#Domestic\n",
    "\n",
    "domestic.count<-as.data.frame(table(train$domestic))\n",
    "domestic.true <-as.data.frame(table(train[train$type == \"Mammal\",]$domestic))\n",
    "domestic.false <-as.data.frame(table(train[train$type == \"NotMammal\",]$domestic))\n",
    "\n",
    "\n",
    "domestic.count <-domestic.count %>%rename(Label=Var1)\n",
    "domestic.true <-domestic.true %>%rename(Label=Var1,Mammal=Freq)\n",
    "domestic.false <-domestic.false  %>%rename(Label=Var1,NotMammal=Freq)\n",
    "domestic <-merge(domestic.count,domestic.true, bye=Label,all=TRUE)\n",
    "domestic <-merge(domestic,domestic.false, bye=Label,all=TRUE)\n",
    "domestic"
   ]
  },
  {
   "cell_type": "code",
   "execution_count": 32,
   "metadata": {},
   "outputs": [],
   "source": [
    "prediction$pred.domestic <-NA\n",
    "prediction$pred.domestic[prediction$domestic==\"TRUE\"] <- \"Mammal\"\n",
    "prediction$pred.domestic[prediction$domestic==\"FALSE\"] <- \"NotMammal\"\n",
    "prediction$domestic <-NULL\n",
    "prediction$pred.domestic <-as.factor(prediction$pred.domestic)"
   ]
  },
  {
   "cell_type": "code",
   "execution_count": 33,
   "metadata": {},
   "outputs": [
    {
     "data": {
      "text/html": [
       "<table>\n",
       "<caption>A data.frame: 2 × 4</caption>\n",
       "<thead>\n",
       "\t<tr><th scope=col>Label</th><th scope=col>Freq</th><th scope=col>Mammal</th><th scope=col>NotMammal</th></tr>\n",
       "\t<tr><th scope=col>&lt;fct&gt;</th><th scope=col>&lt;int&gt;</th><th scope=col>&lt;int&gt;</th><th scope=col>&lt;int&gt;</th></tr>\n",
       "</thead>\n",
       "<tbody>\n",
       "\t<tr><td>FALSE</td><td>55</td><td> 9</td><td>46</td></tr>\n",
       "\t<tr><td>TRUE </td><td>36</td><td>26</td><td>10</td></tr>\n",
       "</tbody>\n",
       "</table>\n"
      ],
      "text/latex": [
       "A data.frame: 2 × 4\n",
       "\\begin{tabular}{llll}\n",
       " Label & Freq & Mammal & NotMammal\\\\\n",
       " <fct> & <int> & <int> & <int>\\\\\n",
       "\\hline\n",
       "\t FALSE & 55 &  9 & 46\\\\\n",
       "\t TRUE  & 36 & 26 & 10\\\\\n",
       "\\end{tabular}\n"
      ],
      "text/markdown": [
       "\n",
       "A data.frame: 2 × 4\n",
       "\n",
       "| Label &lt;fct&gt; | Freq &lt;int&gt; | Mammal &lt;int&gt; | NotMammal &lt;int&gt; |\n",
       "|---|---|---|---|\n",
       "| FALSE | 55 |  9 | 46 |\n",
       "| TRUE  | 36 | 26 | 10 |\n",
       "\n"
      ],
      "text/plain": [
       "  Label Freq Mammal NotMammal\n",
       "1 FALSE 55    9     46       \n",
       "2 TRUE  36   26     10       "
      ]
     },
     "metadata": {},
     "output_type": "display_data"
    }
   ],
   "source": [
    "#Catsized\n",
    "\n",
    "catsize.count<-as.data.frame(table(train$catsize))\n",
    "catsize.true <-as.data.frame(table(train[train$type == \"Mammal\",]$catsize))\n",
    "catsize.false <-as.data.frame(table(train[train$type == \"NotMammal\",]$catsize))\n",
    "\n",
    "\n",
    "catsize.count <-catsize.count %>%rename(Label=Var1)\n",
    "catsize.true <-catsize.true %>%rename(Label=Var1,Mammal=Freq)\n",
    "catsize.false <-catsize.false  %>%rename(Label=Var1,NotMammal=Freq)\n",
    "catsize <-merge(catsize.count,catsize.true, bye=Label,all=TRUE)\n",
    "catsize <-merge(catsize,catsize.false, bye=Label,all=TRUE)\n",
    "catsize"
   ]
  },
  {
   "cell_type": "code",
   "execution_count": 34,
   "metadata": {},
   "outputs": [],
   "source": [
    "prediction$pred.catsize <-NA\n",
    "prediction$pred.catsize[prediction$catsize==\"TRUE\"] <- \"Mammal\"\n",
    "prediction$pred.catsize[prediction$catsize==\"FALSE\"] <- \"NotMammal\"\n",
    "prediction$catsize <-NULL\n",
    "prediction$pred.catsize <-as.factor(prediction$pred.catsize)"
   ]
  },
  {
   "cell_type": "code",
   "execution_count": 35,
   "metadata": {},
   "outputs": [
    {
     "name": "stdout",
     "output_type": "stream",
     "text": [
      "[1] \"Error Rate of Hair Rules: 0.0549450549450549\"\n",
      "[1] \"Error Rate of Feathers Rules: 0.428571428571429\"\n",
      "[1] \"Error Rate of Eggs Rules: 0.021978021978022\"\n",
      "[1] \"Error Rate of Milk Rules: 0\"\n",
      "[1] \"Error Rate of Airborne Rules: 0.428571428571429\"\n",
      "[1] \"Error Rate of Aquatic Rules: 0.340659340659341\"\n",
      "[1] \"Error Rate of Predator Rules: 0.56043956043956\"\n",
      "[1] \"Error Rate of Toothed Rules: 0.21978021978022\"\n",
      "[1] \"Error Rate of Backbone Rules: 0.417582417582418\"\n",
      "[1] \"Error Rate of Breathes Rules: 0.395604395604396\"\n",
      "[1] \"Error Rate of Venomous Rules: 0.527472527472527\"\n",
      "[1] \"Error Rate of Fins Rules: 0.516483516483517\"\n",
      "[1] \"Error Rate of Tail Rules: 0.450549450549451\"\n",
      "[1] \"Error Rate of Domestic Rules: 0.32967032967033\"\n",
      "[1] \"Error Rate of Catsize Rules: 0.208791208791209\"\n"
     ]
    }
   ],
   "source": [
    "#Error Rate\n",
    "\n",
    "prediction$pred.hair.correct =ifelse(prediction$type ==prediction$pred.hair,0,1)\n",
    "prediction$pred.feathers.correct =ifelse(prediction$type ==prediction$pred.feathers,0,1)\n",
    "prediction$pred.eggs.correct =ifelse(prediction$type ==prediction$pred.eggs,0,1)\n",
    "prediction$pred.milk.correct =ifelse(prediction$type ==prediction$pred.milk,0,1)\n",
    "prediction$pred.airborne.correct =ifelse(prediction$type ==prediction$pred.airborne,0,1)\n",
    "prediction$pred.aquatic.correct =ifelse(prediction$type ==prediction$pred.aquatic,0,1)\n",
    "prediction$pred.predator.correct =ifelse(prediction$type ==prediction$pred.predator,0,1)\n",
    "prediction$pred.toothed.correct =ifelse(prediction$type ==prediction$pred.toothed,0,1)\n",
    "prediction$pred.backbone.correct =ifelse(prediction$type ==prediction$pred.backbone,0,1)\n",
    "prediction$pred.breathes.correct =ifelse(prediction$type ==prediction$pred.breathes,0,1)\n",
    "prediction$pred.venomous.correct =ifelse(prediction$type ==prediction$pred.venomous,0,1)\n",
    "prediction$pred.fins.correct =ifelse(prediction$type ==prediction$pred.fins,0,1)\n",
    "prediction$pred.tail.correct =ifelse(prediction$type ==prediction$pred.tail,0,1)\n",
    "prediction$pred.domestic.correct =ifelse(prediction$type ==prediction$pred.domestic,0,1)\n",
    "prediction$pred.catsize.correct =ifelse(prediction$type ==prediction$pred.catsize,0,1)\n",
    "\n",
    "#Print the Results\n",
    "print(paste(\"Error Rate of Hair Rules:\",sum(prediction$pred.hair.correct)/nrow(prediction)))\n",
    "print(paste(\"Error Rate of Feathers Rules:\",sum(prediction$pred.feathers.correct)/nrow(prediction)))\n",
    "print(paste(\"Error Rate of Eggs Rules:\",sum(prediction$pred.eggs.correct)/nrow(prediction)))\n",
    "print(paste(\"Error Rate of Milk Rules:\",sum(prediction$pred.milk.correct)/nrow(prediction)))\n",
    "print(paste(\"Error Rate of Airborne Rules:\",sum(prediction$pred.airborne.correct)/nrow(prediction)))\n",
    "print(paste(\"Error Rate of Aquatic Rules:\",sum(prediction$pred.aquatic.correct)/nrow(prediction)))\n",
    "print(paste(\"Error Rate of Predator Rules:\",sum(prediction$pred.predator.correct)/nrow(prediction)))\n",
    "print(paste(\"Error Rate of Toothed Rules:\",sum(prediction$pred.toothed.correct)/nrow(prediction)))\n",
    "print(paste(\"Error Rate of Backbone Rules:\",sum(prediction$pred.backbone.correct)/nrow(prediction)))\n",
    "print(paste(\"Error Rate of Breathes Rules:\",sum(prediction$pred.breathes.correct)/nrow(prediction)))\n",
    "print(paste(\"Error Rate of Venomous Rules:\",sum(prediction$pred.venomous.correct)/nrow(prediction)))\n",
    "print(paste(\"Error Rate of Fins Rules:\",sum(prediction$pred.fins.correct)/nrow(prediction)))\n",
    "print(paste(\"Error Rate of Tail Rules:\",sum(prediction$pred.tail.correct)/nrow(prediction)))\n",
    "print(paste(\"Error Rate of Domestic Rules:\",sum(prediction$pred.domestic.correct)/nrow(prediction)))\n",
    "print(paste(\"Error Rate of Catsize Rules:\",sum(prediction$pred.catsize.correct)/nrow(prediction)))\n"
   ]
  },
  {
   "cell_type": "markdown",
   "metadata": {},
   "source": [
    "We can see that the milk rules have the lowest error rate, so we then choose it as the One Rule."
   ]
  },
  {
   "cell_type": "code",
   "execution_count": 36,
   "metadata": {},
   "outputs": [],
   "source": [
    "df_train <-train\n",
    "df_train$type <-NULL\n",
    "\n",
    "model <-OneR(df_train)\n",
    "model_prediction <-predict(model,test)"
   ]
  },
  {
   "cell_type": "markdown",
   "metadata": {},
   "source": [
    "### Evaluation\n",
    "\n",
    "By using the trained data set and a confusion matrix, we can obtain the accuracy and error rate of both models to determine the strength of our model.  "
   ]
  },
  {
   "cell_type": "code",
   "execution_count": 37,
   "metadata": {},
   "outputs": [
    {
     "data": {
      "text/plain": [
       "Confusion Matrix and Statistics\n",
       "\n",
       "           Reference\n",
       "Prediction  Mammal NotMammal\n",
       "  Mammal         5         0\n",
       "  NotMammal      1         4\n",
       "                                         \n",
       "               Accuracy : 0.9            \n",
       "                 95% CI : (0.555, 0.9975)\n",
       "    No Information Rate : 0.6            \n",
       "    P-Value [Acc > NIR] : 0.04636        \n",
       "                                         \n",
       "                  Kappa : 0.8            \n",
       "                                         \n",
       " Mcnemar's Test P-Value : 1.00000        \n",
       "                                         \n",
       "            Sensitivity : 0.8333         \n",
       "            Specificity : 1.0000         \n",
       "         Pos Pred Value : 1.0000         \n",
       "         Neg Pred Value : 0.8000         \n",
       "             Prevalence : 0.6000         \n",
       "         Detection Rate : 0.5000         \n",
       "   Detection Prevalence : 0.5000         \n",
       "      Balanced Accuracy : 0.9167         \n",
       "                                         \n",
       "       'Positive' Class : Mammal         \n",
       "                                         "
      ]
     },
     "metadata": {},
     "output_type": "display_data"
    }
   ],
   "source": [
    "#prepare the list of classes from the test data for evaluation\n",
    "reference <-as.data.frame(test$type)\n",
    "colnames(reference) <-c(\"class\")\n",
    "reference <-as.factor(reference$class)\n",
    "\n",
    "testing <-as.data.frame(test$hair)\n",
    "colnames(testing) <- c(\"milk\")\n",
    "\n",
    "testing$pred[testing$milk==\"TRUE\"] <- \"Mammal\"\n",
    "testing$pred[testing$milk==\"FALSE\"] <- \"NotMammal\"\n",
    "\n",
    "testing <-as.factor(testing$pred)\n",
    "\n",
    "confusionMatrix(testing, reference)"
   ]
  },
  {
   "cell_type": "code",
   "execution_count": 38,
   "metadata": {},
   "outputs": [
    {
     "name": "stdout",
     "output_type": "stream",
     "text": [
      "\n",
      "Confusion matrix (absolute):\n",
      "           Actual\n",
      "Prediction  Mammal NotMammal UNSEEN Sum\n",
      "  Mammal         0         0      0   0\n",
      "  NotMammal      0         0      0   0\n",
      "  UNSEEN         6         4      0  10\n",
      "  Sum            6         4      0  10\n",
      "\n",
      "Confusion matrix (relative):\n",
      "           Actual\n",
      "Prediction  Mammal NotMammal UNSEEN Sum\n",
      "  Mammal       0.0       0.0    0.0 0.0\n",
      "  NotMammal    0.0       0.0    0.0 0.0\n",
      "  UNSEEN       0.6       0.4    0.0 1.0\n",
      "  Sum          0.6       0.4    0.0 1.0\n",
      "\n",
      "Accuracy:\n",
      "0 (0/10)\n",
      "\n",
      "Error rate:\n",
      "1 (10/10)\n",
      "\n",
      "Error rate reduction (vs. base rate):\n",
      "-1.5 (p-value = 1)\n",
      "\n"
     ]
    }
   ],
   "source": [
    "eval_model(model_prediction, test)"
   ]
  },
  {
   "cell_type": "markdown",
   "metadata": {},
   "source": [
    "### Results\n",
    "\n",
    "Unfortunately, there was an issue with the eval_model that resulted in an extra 'unseen' column that I am unsure how to fix. The trend was likely to be that the model had a 91% accuracy rate, meaning it is a relatively strong model. If more time had been spent debugging, I believe the model would have also reflected the 91% accuracy rate, resulting in a final model of:\n",
    "\n",
    "Milk -> Mammal\n",
    "\n",
    "No -> Not Mammal\n",
    "\n",
    "### References\n",
    "https://mst.instructure.com/courses/44481/files/folder/examples?preview=1961310</br>\n",
    "\n",
    "https://www.rdocumentation.org/packages/OneR/versions/2.2</br>\n",
    "\n",
    "https://cran.r-project.org/web/packages/OneR/index.html</br>\n",
    "\n",
    "https://stackoverflow.com/questions/34705917/conda-how-to-install-r-packages-that-are-not-available-in-r-essentials </br>\n"
   ]
  },
  {
   "cell_type": "code",
   "execution_count": null,
   "metadata": {},
   "outputs": [],
   "source": []
  }
 ],
 "metadata": {
  "kernelspec": {
   "display_name": "R",
   "language": "R",
   "name": "ir"
  },
  "language_info": {
   "codemirror_mode": "r",
   "file_extension": ".r",
   "mimetype": "text/x-r-source",
   "name": "R",
   "pygments_lexer": "r",
   "version": "3.5.1"
  }
 },
 "nbformat": 4,
 "nbformat_minor": 4
}
