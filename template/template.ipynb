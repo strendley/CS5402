{
 "cells": [
  {
   "cell_type": "markdown",
   "metadata": {},
   "source": [
    "### Concept Description:\n",
    "Our team's goal is to perform data analysis on the comments sections of reddit. We plan to extract rdata using BigQuery on the Google Cloud platform\n",
    "\n",
    "### Data Collection:\n",
    "Record the data collection method here.\n",
    "\n",
    "### Example Description:\n",
    "Record the description of the examples here, and long with a list of attributes, a description of\n",
    "each attribute, and the domain of the attribute. Also include any restrictions or considerations\n",
    "on example selection, or techniques used to improve the number of examples.\n",
    "\n",
    "\n",
    "### Data Import and Wrangling:\n",
    "Record anything that was necessary to import the data or transform the data into something you\n",
    "would use for analysis.\n",
    "\n",
    "### Exploratory Data Analysis:\n",
    "Record anything that you do to look into that data. Work here may result in you going back and\n",
    "import and/or wrangle more data. This may include visualizations.\n",
    "\n",
    "### Mining or Analytics:\n",
    "Record any mining or analytics techniques you perform. This may include visualizations.\n",
    "\n",
    "### Evaluation:\n",
    "Record the evaluation of your mining or analytics techniques.\n",
    "\n",
    "### Results:\n",
    "Record the results of your findings.\n"
   ]
  },
  {
   "cell_type": "code",
   "execution_count": null,
   "metadata": {},
   "outputs": [],
   "source": []
  }
 ],
 "metadata": {
  "kernelspec": {
   "display_name": "R",
   "language": "R",
   "name": "ir"
  },
  "language_info": {
   "codemirror_mode": "r",
   "file_extension": ".r",
   "mimetype": "text/x-r-source",
   "name": "R",
   "pygments_lexer": "r",
   "version": "3.5.1"
  }
 },
 "nbformat": 4,
 "nbformat_minor": 4
}
