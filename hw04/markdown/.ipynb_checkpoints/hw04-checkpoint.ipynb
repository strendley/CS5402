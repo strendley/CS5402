{
 "cells": [
  {
   "cell_type": "markdown",
   "metadata": {},
   "source": [
    " # <div align=\"center\"> Naives Bayer & ID3 Animal Classifier</div>\n",
    "\n",
    "### Author & Notes\n",
    "Skylar Trendley\n",
    "\n",
    "Data Mining\n",
    "\n",
    "Homework 4\n",
    "\n",
    "### Concept Description: </br>\n",
    "Using Naive Bayers and ID3, create a model that can classify unknown animals into the 7 possible classifications. \n",
    "\n",
    "### Data Collection: </br>\n",
    "The data has been provided by Perry B. Koob. It consists of 19 attributes: a descriptor attribute(name), 15 boolean attributes, a classification attribute (type), and two numerical attributes.\n",
    "\n",
    "### Example Description: </br>\n",
    "Attribute Information:\n",
    "1. animal name: Nominal attribute that indicates the animal. Unique for each instance.  \n",
    "2. hair: Nominal boolean attribute that describes if the animal has hair.\n",
    "3. feathers: Nominal boolean attribute that describes if the animal has feathers. \n",
    "4. eggs: Nominal boolean attribute that describes if the animal lays eggs.   \n",
    "5. milk: Nominal boolean attribute that describes if the animal produces milk.   \n",
    "6. airborne: Nominal boolean attribute that describes if the animal has the capability of flight.   \n",
    "7. aquatic: Nominal boolean attribute that describes if the animal has the capability to breathe under water.   \n",
    "8. predator: Nominal boolean attribute that describes if the animal is a predator.   \n",
    "9. toothed: Nominal boolean attribute that describes if the animal has teeth.  \n",
    "10. backbone: Nominal boolean attribute that describes if the animal has a backbone.  \n",
    "11. breathes: Nominal boolean attribute that describes if the animal breathes air.  \n",
    "12. venomous: Nominal boolean attribute that describes if the animal produces venom.  \n",
    "13. fins: Nominal boolean attribute that describes if the animal has fins.  \n",
    "14. legs: Numeric classification that describes the number of legs an animal has (set of values: {0,2,4,5,6,8})  \n",
    "15. tail: Nominal boolean attribute that describes if the animal has a tail.  \n",
    "16. domestic: Nominal boolean attribute that describes if the animal has been domesticated.  \n",
    "17. catsize: Nominal boolean attribute that describes if the animal is catsized.  \n",
    "18. gestation: Numeric classification that describes if the animal has live birth (in days)\n",
    "19. type: Nominal classification attribute that describes the species of the animal.\n",
    "\n",
    "### Data Import and Wrangling:"
   ]
  },
  {
   "cell_type": "code",
   "execution_count": 53,
   "metadata": {
    "scrolled": true
   },
   "outputs": [
    {
     "data": {
      "text/html": [
       "<style>\n",
       ".list-inline {list-style: none; margin:0; padding: 0}\n",
       ".list-inline>li {display: inline-block}\n",
       ".list-inline>li:not(:last-child)::after {content: \"\\00b7\"; padding: 0 .5ex}\n",
       "</style>\n",
       "<ol class=list-inline><li>'animal.name'</li><li>'hair'</li><li>'feathers'</li><li>'eggs'</li><li>'milk'</li><li>'airborne'</li><li>'aquatic'</li><li>'predator'</li><li>'toothed'</li><li>'backbone'</li><li>'breathes'</li><li>'venomous'</li><li>'fins'</li><li>'legs'</li><li>'tail'</li><li>'domestic'</li><li>'catsize'</li><li>'gestation'</li><li>'type'</li></ol>\n"
      ],
      "text/latex": [
       "\\begin{enumerate*}\n",
       "\\item 'animal.name'\n",
       "\\item 'hair'\n",
       "\\item 'feathers'\n",
       "\\item 'eggs'\n",
       "\\item 'milk'\n",
       "\\item 'airborne'\n",
       "\\item 'aquatic'\n",
       "\\item 'predator'\n",
       "\\item 'toothed'\n",
       "\\item 'backbone'\n",
       "\\item 'breathes'\n",
       "\\item 'venomous'\n",
       "\\item 'fins'\n",
       "\\item 'legs'\n",
       "\\item 'tail'\n",
       "\\item 'domestic'\n",
       "\\item 'catsize'\n",
       "\\item 'gestation'\n",
       "\\item 'type'\n",
       "\\end{enumerate*}\n"
      ],
      "text/markdown": [
       "1. 'animal.name'\n",
       "2. 'hair'\n",
       "3. 'feathers'\n",
       "4. 'eggs'\n",
       "5. 'milk'\n",
       "6. 'airborne'\n",
       "7. 'aquatic'\n",
       "8. 'predator'\n",
       "9. 'toothed'\n",
       "10. 'backbone'\n",
       "11. 'breathes'\n",
       "12. 'venomous'\n",
       "13. 'fins'\n",
       "14. 'legs'\n",
       "15. 'tail'\n",
       "16. 'domestic'\n",
       "17. 'catsize'\n",
       "18. 'gestation'\n",
       "19. 'type'\n",
       "\n",
       "\n"
      ],
      "text/plain": [
       " [1] \"animal.name\" \"hair\"        \"feathers\"    \"eggs\"        \"milk\"       \n",
       " [6] \"airborne\"    \"aquatic\"     \"predator\"    \"toothed\"     \"backbone\"   \n",
       "[11] \"breathes\"    \"venomous\"    \"fins\"        \"legs\"        \"tail\"       \n",
       "[16] \"domestic\"    \"catsize\"     \"gestation\"   \"type\"       "
      ]
     },
     "metadata": {},
     "output_type": "display_data"
    }
   ],
   "source": [
    "train <-read.csv(file ='../src-data/animal-taxonomy-train.csv',stringsAsFactors=TRUE)\n",
    "test <-read.csv(file ='../src-data/animal-taxonomy-test.csv',stringsAsFactors=TRUE)\n",
    "\n",
    "colnames(test)\n",
    "\n",
    "#Unused attributes\n",
    "train$legs <- NULL\n",
    "train$gestation <- NULL"
   ]
  },
  {
   "cell_type": "markdown",
   "metadata": {},
   "source": [
    "### Exploratory Data Analysis: </br>\n",
    "\n",
    "The Naive Bayes and ID3 classifers use nominal attributes, so each attribute was examined and determined to be nominal or discretized to be nominal.\n",
    "\n",
    "### Mining or Analytics: </br>"
   ]
  },
  {
   "cell_type": "code",
   "execution_count": 54,
   "metadata": {},
   "outputs": [
    {
     "name": "stderr",
     "output_type": "stream",
     "text": [
      "Warning message in FUN(X[[i]], ...):\n",
      "“Numerical 0 probability for all classes with observation 4”\n"
     ]
    }
   ],
   "source": [
    "#Naive Bayers Classification\n",
    "library(klaR) #library necessary for naives bayer classification\n",
    "nb_mod <- NaiveBayes(type~., data=train)\n",
    "pred<-predict(nb_mod, test)"
   ]
  },
  {
   "cell_type": "code",
   "execution_count": 55,
   "metadata": {},
   "outputs": [
    {
     "data": {
      "image/png": "[encoded data removed]",
      "text/plain": [
       "Plot with title “”"
      ]
     },
     "metadata": {
      "image/png": {
       "height": 420,
       "width": 420
      },
      "text/plain": {
       "height": 420,
       "width": 420
      }
     },
     "output_type": "display_data"
    },
    {
     "data": {
      "image/png": "[encoded data removed]",
      "text/plain": [
       "Plot with title “”"
      ]
     },
     "metadata": {
      "image/png": {
       "height": 420,
       "width": 420
      },
      "text/plain": {
       "height": 420,
       "width": 420
      }
     },
     "output_type": "display_data"
    },
    {
     "data": {
      "image/png": "[encoded data removed]",
      "text/plain": [
       "Plot with title “”"
      ]
     },
     "metadata": {
      "image/png": {
       "height": 420,
       "width": 420
      },
      "text/plain": {
       "height": 420,
       "width": 420
      }
     },
     "output_type": "display_data"
    },
    {
     "data": {
      "image/png": "[encoded data removed]",
      "text/plain": [
       "Plot with title “”"
      ]
     },
     "metadata": {
      "image/png": {
       "height": 420,
       "width": 420
      },
      "text/plain": {
       "height": 420,
       "width": 420
      }
     },
     "output_type": "display_data"
    }
   ],
   "source": [
    "# Plot density of each feature using nb_mod\n",
    "opar = par(mfrow=c(2, 2), mar=c(4,0,0,0))\n",
    "plot(nb_mod, main=\"\")  \n",
    "par(opar)"
   ]
  },
  {
   "cell_type": "code",
   "execution_count": 62,
   "metadata": {
    "scrolled": true
   },
   "outputs": [
    {
     "data": {
      "text/html": [
       "<style>\n",
       ".list-inline {list-style: none; margin:0; padding: 0}\n",
       ".list-inline>li {display: inline-block}\n",
       ".list-inline>li:not(:last-child)::after {content: \"\\00b7\"; padding: 0 .5ex}\n",
       "</style>\n",
       "<ol class=list-inline><li>mammal</li><li>fish</li><li>mammal</li><li>mammal</li><li>mammal</li><li>mammal</li><li>fish</li><li>fish</li><li>mammal</li><li>mammal</li><li>fish</li><li>arthropod</li><li>arthropod</li><li>arthropod</li><li>bird</li><li>mammal</li><li>bird</li><li>mammal</li><li>arthropod</li><li>reptile</li><li>reptile</li><li>mammal</li><li>mammal</li><li>mammal</li><li>arthropod</li><li>mammal</li><li>mammal</li><li>bird</li><li>fish</li><li>mammal</li><li>mammal</li><li>bird</li><li>fish</li><li>arthropod</li><li>arthropod</li><li>bird</li><li>arthropod</li><li>bird</li><li>mammal</li><li>arthropod</li><li>mammal</li><li>mammal</li><li>mammal</li><li>mammal</li><li>arthropod</li><li>reptile</li><li>arthropod</li><li>mammal</li><li>bird</li><li>bird</li><li>bird</li><li>bird</li><li>fish</li><li>fish</li><li>reptile</li><li>mammal</li><li>mammal</li><li>mammal</li><li>mammal</li><li>mammal</li><li>mammal</li><li>bird</li><li>arthropod</li><li>fish</li><li>mammal</li><li>mammal</li><li>reptile</li><li>arthropod</li><li>bird</li><li>bird</li><li>reptile</li><li>arthropod</li><li>fish</li><li>bird</li><li>mammal</li><li>arthropod</li><li>fish</li><li>bird</li><li>arthropod</li><li>reptile</li><li>reptile</li><li>reptile</li><li>fish</li><li>mammal</li><li>mammal</li><li>bird</li><li>mammal</li><li>arthropod</li><li>mammal</li><li>arthropod</li><li>bird</li></ol>\n",
       "\n",
       "<details>\n",
       "\t<summary style=display:list-item;cursor:pointer>\n",
       "\t\t<strong>Levels</strong>:\n",
       "\t</summary>\n",
       "\t<style>\n",
       "\t.list-inline {list-style: none; margin:0; padding: 0}\n",
       "\t.list-inline>li {display: inline-block}\n",
       "\t.list-inline>li:not(:last-child)::after {content: \"\\00b7\"; padding: 0 .5ex}\n",
       "\t</style>\n",
       "\t<ol class=list-inline><li>'amphibian'</li><li>'arthropod'</li><li>'bird'</li><li>'fish'</li><li>'insect'</li><li>'mammal'</li><li>'reptile'</li></ol>\n",
       "</details>"
      ],
      "text/latex": [
       "\\begin{enumerate*}\n",
       "\\item mammal\n",
       "\\item fish\n",
       "\\item mammal\n",
       "\\item mammal\n",
       "\\item mammal\n",
       "\\item mammal\n",
       "\\item fish\n",
       "\\item fish\n",
       "\\item mammal\n",
       "\\item mammal\n",
       "\\item fish\n",
       "\\item arthropod\n",
       "\\item arthropod\n",
       "\\item arthropod\n",
       "\\item bird\n",
       "\\item mammal\n",
       "\\item bird\n",
       "\\item mammal\n",
       "\\item arthropod\n",
       "\\item reptile\n",
       "\\item reptile\n",
       "\\item mammal\n",
       "\\item mammal\n",
       "\\item mammal\n",
       "\\item arthropod\n",
       "\\item mammal\n",
       "\\item mammal\n",
       "\\item bird\n",
       "\\item fish\n",
       "\\item mammal\n",
       "\\item mammal\n",
       "\\item bird\n",
       "\\item fish\n",
       "\\item arthropod\n",
       "\\item arthropod\n",
       "\\item bird\n",
       "\\item arthropod\n",
       "\\item bird\n",
       "\\item mammal\n",
       "\\item arthropod\n",
       "\\item mammal\n",
       "\\item mammal\n",
       "\\item mammal\n",
       "\\item mammal\n",
       "\\item arthropod\n",
       "\\item reptile\n",
       "\\item arthropod\n",
       "\\item mammal\n",
       "\\item bird\n",
       "\\item bird\n",
       "\\item bird\n",
       "\\item bird\n",
       "\\item fish\n",
       "\\item fish\n",
       "\\item reptile\n",
       "\\item mammal\n",
       "\\item mammal\n",
       "\\item mammal\n",
       "\\item mammal\n",
       "\\item mammal\n",
       "\\item mammal\n",
       "\\item bird\n",
       "\\item arthropod\n",
       "\\item fish\n",
       "\\item mammal\n",
       "\\item mammal\n",
       "\\item reptile\n",
       "\\item arthropod\n",
       "\\item bird\n",
       "\\item bird\n",
       "\\item reptile\n",
       "\\item arthropod\n",
       "\\item fish\n",
       "\\item bird\n",
       "\\item mammal\n",
       "\\item arthropod\n",
       "\\item fish\n",
       "\\item bird\n",
       "\\item arthropod\n",
       "\\item reptile\n",
       "\\item reptile\n",
       "\\item reptile\n",
       "\\item fish\n",
       "\\item mammal\n",
       "\\item mammal\n",
       "\\item bird\n",
       "\\item mammal\n",
       "\\item arthropod\n",
       "\\item mammal\n",
       "\\item arthropod\n",
       "\\item bird\n",
       "\\end{enumerate*}\n",
       "\n",
       "\\emph{Levels}: \\begin{enumerate*}\n",
       "\\item 'amphibian'\n",
       "\\item 'arthropod'\n",
       "\\item 'bird'\n",
       "\\item 'fish'\n",
       "\\item 'insect'\n",
       "\\item 'mammal'\n",
       "\\item 'reptile'\n",
       "\\end{enumerate*}\n"
      ],
      "text/markdown": [
       "1. mammal\n",
       "2. fish\n",
       "3. mammal\n",
       "4. mammal\n",
       "5. mammal\n",
       "6. mammal\n",
       "7. fish\n",
       "8. fish\n",
       "9. mammal\n",
       "10. mammal\n",
       "11. fish\n",
       "12. arthropod\n",
       "13. arthropod\n",
       "14. arthropod\n",
       "15. bird\n",
       "16. mammal\n",
       "17. bird\n",
       "18. mammal\n",
       "19. arthropod\n",
       "20. reptile\n",
       "21. reptile\n",
       "22. mammal\n",
       "23. mammal\n",
       "24. mammal\n",
       "25. arthropod\n",
       "26. mammal\n",
       "27. mammal\n",
       "28. bird\n",
       "29. fish\n",
       "30. mammal\n",
       "31. mammal\n",
       "32. bird\n",
       "33. fish\n",
       "34. arthropod\n",
       "35. arthropod\n",
       "36. bird\n",
       "37. arthropod\n",
       "38. bird\n",
       "39. mammal\n",
       "40. arthropod\n",
       "41. mammal\n",
       "42. mammal\n",
       "43. mammal\n",
       "44. mammal\n",
       "45. arthropod\n",
       "46. reptile\n",
       "47. arthropod\n",
       "48. mammal\n",
       "49. bird\n",
       "50. bird\n",
       "51. bird\n",
       "52. bird\n",
       "53. fish\n",
       "54. fish\n",
       "55. reptile\n",
       "56. mammal\n",
       "57. mammal\n",
       "58. mammal\n",
       "59. mammal\n",
       "60. mammal\n",
       "61. mammal\n",
       "62. bird\n",
       "63. arthropod\n",
       "64. fish\n",
       "65. mammal\n",
       "66. mammal\n",
       "67. reptile\n",
       "68. arthropod\n",
       "69. bird\n",
       "70. bird\n",
       "71. reptile\n",
       "72. arthropod\n",
       "73. fish\n",
       "74. bird\n",
       "75. mammal\n",
       "76. arthropod\n",
       "77. fish\n",
       "78. bird\n",
       "79. arthropod\n",
       "80. reptile\n",
       "81. reptile\n",
       "82. reptile\n",
       "83. fish\n",
       "84. mammal\n",
       "85. mammal\n",
       "86. bird\n",
       "87. mammal\n",
       "88. arthropod\n",
       "89. mammal\n",
       "90. arthropod\n",
       "91. bird\n",
       "\n",
       "\n",
       "\n",
       "**Levels**: 1. 'amphibian'\n",
       "2. 'arthropod'\n",
       "3. 'bird'\n",
       "4. 'fish'\n",
       "5. 'insect'\n",
       "6. 'mammal'\n",
       "7. 'reptile'\n",
       "\n",
       "\n"
      ],
      "text/plain": [
       " [1] mammal    fish      mammal    mammal    mammal    mammal    fish     \n",
       " [8] fish      mammal    mammal    fish      arthropod arthropod arthropod\n",
       "[15] bird      mammal    bird      mammal    arthropod reptile   reptile  \n",
       "[22] mammal    mammal    mammal    arthropod mammal    mammal    bird     \n",
       "[29] fish      mammal    mammal    bird      fish      arthropod arthropod\n",
       "[36] bird      arthropod bird      mammal    arthropod mammal    mammal   \n",
       "[43] mammal    mammal    arthropod reptile   arthropod mammal    bird     \n",
       "[50] bird      bird      bird      fish      fish      reptile   mammal   \n",
       "[57] mammal    mammal    mammal    mammal    mammal    bird      arthropod\n",
       "[64] fish      mammal    mammal    reptile   arthropod bird      bird     \n",
       "[71] reptile   arthropod fish      bird      mammal    arthropod fish     \n",
       "[78] bird      arthropod reptile   reptile   reptile   fish      mammal   \n",
       "[85] mammal    bird      mammal    arthropod mammal    arthropod bird     \n",
       "Levels: amphibian arthropod bird fish insect mammal reptile"
      ]
     },
     "metadata": {},
     "output_type": "display_data"
    },
    {
     "data": {
      "text/html": [
       "<style>\n",
       ".list-inline {list-style: none; margin:0; padding: 0}\n",
       ".list-inline>li {display: inline-block}\n",
       ".list-inline>li:not(:last-child)::after {content: \"\\00b7\"; padding: 0 .5ex}\n",
       "</style>\n",
       "<ol class=list-inline><li>mammal</li><li>bird</li><li>mammal</li><li>mammal</li><li>bird</li><li>bird</li><li>mammal</li><li>mammal</li><li>mammal</li><li>fish</li></ol>\n",
       "\n",
       "<details>\n",
       "\t<summary style=display:list-item;cursor:pointer>\n",
       "\t\t<strong>Levels</strong>:\n",
       "\t</summary>\n",
       "\t<style>\n",
       "\t.list-inline {list-style: none; margin:0; padding: 0}\n",
       "\t.list-inline>li {display: inline-block}\n",
       "\t.list-inline>li:not(:last-child)::after {content: \"\\00b7\"; padding: 0 .5ex}\n",
       "\t</style>\n",
       "\t<ol class=list-inline><li>'bird'</li><li>'fish'</li><li>'mammal'</li></ol>\n",
       "</details>"
      ],
      "text/latex": [
       "\\begin{enumerate*}\n",
       "\\item mammal\n",
       "\\item bird\n",
       "\\item mammal\n",
       "\\item mammal\n",
       "\\item bird\n",
       "\\item bird\n",
       "\\item mammal\n",
       "\\item mammal\n",
       "\\item mammal\n",
       "\\item fish\n",
       "\\end{enumerate*}\n",
       "\n",
       "\\emph{Levels}: \\begin{enumerate*}\n",
       "\\item 'bird'\n",
       "\\item 'fish'\n",
       "\\item 'mammal'\n",
       "\\end{enumerate*}\n"
      ],
      "text/markdown": [
       "1. mammal\n",
       "2. bird\n",
       "3. mammal\n",
       "4. mammal\n",
       "5. bird\n",
       "6. bird\n",
       "7. mammal\n",
       "8. mammal\n",
       "9. mammal\n",
       "10. fish\n",
       "\n",
       "\n",
       "\n",
       "**Levels**: 1. 'bird'\n",
       "2. 'fish'\n",
       "3. 'mammal'\n",
       "\n",
       "\n"
      ],
      "text/plain": [
       " [1] mammal bird   mammal mammal bird   bird   mammal mammal mammal fish  \n",
       "Levels: bird fish mammal"
      ]
     },
     "metadata": {},
     "output_type": "display_data"
    }
   ],
   "source": [
    "#ID3 Classification\n",
    "library(rpart)\n",
    "library(rpart.plot)\n",
    "library(party)\n",
    "library(caret)\n",
    "\n",
    "tree = ctree(train$type ~ ., data=train)\n",
    "predict = predict(tree)\n",
    "\n",
    "predict\n",
    "test$type"
   ]
  },
  {
   "cell_type": "code",
   "execution_count": 57,
   "metadata": {},
   "outputs": [
    {
     "data": {
      "image/png": "[encoded data removed]",
      "text/plain": [
       "plot without title"
      ]
     },
     "metadata": {
      "image/png": {
       "height": 420,
       "width": 420
      },
      "text/plain": {
       "height": 420,
       "width": 420
      }
     },
     "output_type": "display_data"
    }
   ],
   "source": [
    "plot(tree, type=\"simple\")"
   ]
  },
  {
   "cell_type": "markdown",
   "metadata": {},
   "source": [
    "### Evaluation\n",
    "\n",
    "By using the trained data set and a confusion matrix, we can obtain the accuracy and error rate of both models to determine the strength of our model.  "
   ]
  },
  {
   "cell_type": "code",
   "execution_count": 58,
   "metadata": {
    "scrolled": false
   },
   "outputs": [
    {
     "name": "stderr",
     "output_type": "stream",
     "text": [
      "Warning message in levels(reference) != levels(data):\n",
      "“longer object length is not a multiple of shorter object length”\n",
      "Warning message in confusionMatrix.default(test$type, pred$class):\n",
      "“Levels are not in the same order for reference and data. Refactoring data to match.”\n"
     ]
    },
    {
     "data": {
      "text/plain": [
       "Confusion Matrix and Statistics\n",
       "\n",
       "           Reference\n",
       "Prediction  amphibian arthropod bird fish insect mammal reptile\n",
       "  amphibian         0         0    0    0      0      0       0\n",
       "  arthropod         0         0    0    0      0      0       0\n",
       "  bird              0         0    3    0      0      0       0\n",
       "  fish              0         0    0    1      0      0       0\n",
       "  insect            0         0    0    0      0      0       0\n",
       "  mammal            0         0    0    0      0      6       0\n",
       "  reptile           0         0    0    0      0      0       0\n",
       "\n",
       "Overall Statistics\n",
       "                                     \n",
       "               Accuracy : 1          \n",
       "                 95% CI : (0.6915, 1)\n",
       "    No Information Rate : 0.6        \n",
       "    P-Value [Acc > NIR] : 0.006047   \n",
       "                                     \n",
       "                  Kappa : 1          \n",
       "                                     \n",
       " Mcnemar's Test P-Value : NA         \n",
       "\n",
       "Statistics by Class:\n",
       "\n",
       "                     Class: amphibian Class: arthropod Class: bird Class: fish\n",
       "Sensitivity                        NA               NA         1.0         1.0\n",
       "Specificity                         1                1         1.0         1.0\n",
       "Pos Pred Value                     NA               NA         1.0         1.0\n",
       "Neg Pred Value                     NA               NA         1.0         1.0\n",
       "Prevalence                          0                0         0.3         0.1\n",
       "Detection Rate                      0                0         0.3         0.1\n",
       "Detection Prevalence                0                0         0.3         0.1\n",
       "Balanced Accuracy                  NA               NA         1.0         1.0\n",
       "                     Class: insect Class: mammal Class: reptile\n",
       "Sensitivity                     NA           1.0             NA\n",
       "Specificity                      1           1.0              1\n",
       "Pos Pred Value                  NA           1.0             NA\n",
       "Neg Pred Value                  NA           1.0             NA\n",
       "Prevalence                       0           0.6              0\n",
       "Detection Rate                   0           0.6              0\n",
       "Detection Prevalence             0           0.6              0\n",
       "Balanced Accuracy               NA           1.0             NA"
      ]
     },
     "metadata": {},
     "output_type": "display_data"
    }
   ],
   "source": [
    "#Naives Bayers Confusion Matrix\n",
    "confusionMatrix(test$type, pred$class)"
   ]
  },
  {
   "cell_type": "code",
   "execution_count": 59,
   "metadata": {
    "scrolled": false
   },
   "outputs": [
    {
     "data": {
      "image/png": "[encoded data removed]",
      "text/plain": [
       "plot without title"
      ]
     },
     "metadata": {
      "image/png": {
       "height": 420,
       "width": 420
      },
      "text/plain": {
       "height": 420,
       "width": 420
      }
     },
     "output_type": "display_data"
    }
   ],
   "source": [
    "library(ggplot2)\n",
    "test$pred <- pred$class\n",
    "ggplot(test, aes(type, pred, color = type)) +\n",
    "  geom_jitter(width = 0.2, height = 0.1, size=2) +\n",
    "  labs(title=\"Confusion Matrix\", \n",
    "       subtitle=\"Predicted vs. Observed from dataset\", \n",
    "       y=\"Predicted\", \n",
    "       x=\"Truth\",\n",
    "       caption=\"Naives Bayer Model\")"
   ]
  },
  {
   "cell_type": "code",
   "execution_count": 61,
   "metadata": {},
   "outputs": [
    {
     "name": "stderr",
     "output_type": "stream",
     "text": [
      "Warning message in levels(reference) != levels(data):\n",
      "“longer object length is not a multiple of shorter object length”\n",
      "Warning message in confusionMatrix.default(test$type, predict):\n",
      "“Levels are not in the same order for reference and data. Refactoring data to match.”\n"
     ]
    },
    {
     "ename": "ERROR",
     "evalue": "Error in table(data, reference, dnn = dnn, ...): all arguments must have the same length\n",
     "output_type": "error",
     "traceback": [
      "Error in table(data, reference, dnn = dnn, ...): all arguments must have the same length\nTraceback:\n",
      "1. confusionMatrix(test$type, predict)",
      "2. confusionMatrix.default(test$type, predict)",
      "3. table(data, reference, dnn = dnn, ...)",
      "4. stop(\"all arguments must have the same length\")"
     ]
    }
   ],
   "source": [
    "# ID3 Confusion Matrix\n",
    "\n",
    "confusionMatrix(test$type, predict)"
   ]
  },
  {
   "cell_type": "code",
   "execution_count": null,
   "metadata": {},
   "outputs": [],
   "source": []
  },
  {
   "cell_type": "markdown",
   "metadata": {},
   "source": [
    "### Results\n",
    "Through testing each classification method via confusion maticies and testing error rate and accuracy, the advantages and disadvantages of both methods were demonstrated. It seems that Naives Bayer performed better for this particular dataset. The decision tree method typically is better for larger datasets, as it seemed to overfit the data for this particular example. I would therefore recommend the Naives Bayer method to the client.\n",
    "\n",
    "### References\n",
    "https://www.machinelearningplus.com/predictive-modeling/how-naive-bayes-algorithm-works-with-example-and-full-code/#8buildinganaivebayesclassifierinr</br>\n",
    "\n",
    "http://ml-tutorials.kyrcha.info/dt.html</br>"
   ]
  },
  {
   "cell_type": "code",
   "execution_count": null,
   "metadata": {},
   "outputs": [],
   "source": []
  }
 ],
 "metadata": {
  "kernelspec": {
   "display_name": "R",
   "language": "R",
   "name": "ir"
  },
  "language_info": {
   "codemirror_mode": "r",
   "file_extension": ".r",
   "mimetype": "text/x-r-source",
   "name": "R",
   "pygments_lexer": "r",
   "version": "3.5.1"
  }
 },
 "nbformat": 4,
 "nbformat_minor": 4
}
